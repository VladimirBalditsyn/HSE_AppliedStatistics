{
 "cells": [
  {
   "cell_type": "markdown",
   "metadata": {
    "id": "A-upwYXqnq2u",
    "toc": true
   },
   "source": [
    "<h1>Table of Contents<span class=\"tocSkip\"></span></h1>\n",
    "<div class=\"toc\"><ul class=\"toc-item\"><li><span><a href=\"#Пример-с-Джеймсом-Бондом\" data-toc-modified-id=\"Пример-с-Джеймсом-Бондом-1\">Пример с Джеймсом Бондом</a></span></li><li><span><a href=\"#Ошибки-1-и-2-рода\" data-toc-modified-id=\"Ошибки-1-и-2-рода-2\">Ошибки 1 и 2 рода</a></span><ul class=\"toc-item\"><li><span><a href=\"#Симулируем-ошибки-1-и-2-рода\" data-toc-modified-id=\"Симулируем-ошибки-1-и-2-рода-2.1\">Симулируем ошибки 1 и 2 рода</a></span></li><li><span><a href=\"#Ошибка-2-рода-и-число-наблюдений\" data-toc-modified-id=\"Ошибка-2-рода-и-число-наблюдений-2.2\">Ошибка 2 рода и число наблюдений</a></span></li></ul></li><li><span><a href=\"#О-мышах-и-людях\" data-toc-modified-id=\"О-мышах-и-людях-3\">О мышах и людях</a></span><ul class=\"toc-item\"><li><span><a href=\"#Доля-и-нажатие-на-кнопку\" data-toc-modified-id=\"Доля-и-нажатие-на-кнопку-3.1\"><strong>Доля</strong> и нажатие на кнопку</a></span><ul class=\"toc-item\"><li><span><a href=\"#Двусторонняя-гипотеза\" data-toc-modified-id=\"Двусторонняя-гипотеза-3.1.1\">Двусторонняя гипотеза</a></span></li><li><span><a href=\"#Односторонняя-гипотеза\" data-toc-modified-id=\"Односторонняя-гипотеза-3.1.2\">Односторонняя гипотеза</a></span></li></ul></li><li><span><a href=\"#Среднее-и-кровожадность\" data-toc-modified-id=\"Среднее-и-кровожадность-3.2\"><strong>Среднее</strong> и кровожадность</a></span><ul class=\"toc-item\"><li><span><a href=\"#Асимптотический-тест\" data-toc-modified-id=\"Асимптотический-тест-3.2.1\">Асимптотический тест</a></span></li><li><span><a href=\"#Точный-тест\" data-toc-modified-id=\"Точный-тест-3.2.2\">Точный тест</a></span></li></ul></li><li><span><a href=\"#Сравниваем-кровожадность-(средние)\" data-toc-modified-id=\"Сравниваем-кровожадность-(средние)-3.3\">Сравниваем кровожадность (<strong>средние</strong>)</a></span><ul class=\"toc-item\"><li><span><a href=\"#Асимптотический-тест\" data-toc-modified-id=\"Асимптотический-тест-3.3.1\">Асимптотический тест</a></span></li><li><span><a href=\"#Тест-Стьюдента-(неизвестные-равные-дисперсии)\" data-toc-modified-id=\"Тест-Стьюдента-(неизвестные-равные-дисперсии)-3.3.2\">Тест Стьюдента (неизвестные равные дисперсии)</a></span></li><li><span><a href=\"#Тест-Уэлча-(неизвестные-разные-дисперсии)\" data-toc-modified-id=\"Тест-Уэлча-(неизвестные-разные-дисперсии)-3.3.3\">Тест Уэлча (неизвестные разные дисперсии)</a></span></li></ul></li><li><span><a href=\"#Эмпатия-(сравниваем-дисперсии)\" data-toc-modified-id=\"Эмпатия-(сравниваем-дисперсии)-3.4\">Эмпатия (сравниваем <strong>дисперсии</strong>)</a></span></li><li><span><a href=\"#Отношение-дисперсий\" data-toc-modified-id=\"Отношение-дисперсий-3.5\">Отношение дисперсий</a></span></li></ul></li><li><span><a href=\"#Зависимые-выборки\" data-toc-modified-id=\"Зависимые-выборки-4\">Зависимые выборки</a></span><ul class=\"toc-item\"><li><span><a href=\"#Реклама-(таблица-сопряженности)\" data-toc-modified-id=\"Реклама-(таблица-сопряженности)-4.1\">Реклама (таблица сопряженности)</a></span></li><li><span><a href=\"#Контрольная-работа-(измерения-на-одних-и-тех-же-объектах)\" data-toc-modified-id=\"Контрольная-работа-(измерения-на-одних-и-тех-же-объектах)-4.2\">Контрольная работа (измерения на одних и тех же объектах)</a></span></li></ul></li><li><span><a href=\"#Корреляция-Пирсона\" data-toc-modified-id=\"Корреляция-Пирсона-5\">Корреляция Пирсона</a></span><ul class=\"toc-item\"><li><span><a href=\"#t-тест\" data-toc-modified-id=\"t-тест-5.1\">t-тест</a></span></li></ul></li></ul></div>"
   ]
  },
  {
   "cell_type": "code",
   "execution_count": 1,
   "metadata": {},
   "outputs": [],
   "source": [
    "import numpy as np\n",
    "import pandas as pd\n",
    "import seaborn as sns\n",
    "import matplotlib.pyplot as plt\n",
    "\n",
    "from scipy import stats\n",
    "import statsmodels as sts \n",
    "from tqdm.notebook import tqdm\n",
    "\n",
    "plt.style.use('ggplot')"
   ]
  },
  {
   "cell_type": "code",
   "execution_count": 2,
   "metadata": {},
   "outputs": [],
   "source": [
    "def asy_mean_test(mean_hat, std_hat, mu_0=0, \n",
    "                   alpha=0.05, alternative='two-sided', margin=3):\n",
    "    \"\"\"\n",
    "        Асимптотический тест для равенства средних\n",
    "    \"\"\"\n",
    "    \n",
    "    z_obs = (mean_hat - mu_0)/std_hat\n",
    "    \n",
    "    if alternative == 'two-sided':\n",
    "        p_value = 2 * (1 - stats.norm().cdf(np.abs(z_obs)))\n",
    "        z_crit = stats.norm().ppf(1 - alpha/2)\n",
    "        \n",
    "        statistics = ['-z_crit', 'z_crit', '-z_obs', 'z_obs']\n",
    "        params = dict(zip(statistics, [(-z_crit, -0.6, -margin, -z_crit, 'b'), \n",
    "                                       (z_crit, 0.05, z_crit, margin, 'b'),\n",
    "                                       (-z_obs, -0.6, -margin, -z_obs, 'r'), \n",
    "                                       (z_obs, 0.1, z_obs, margin, 'r')]))\n",
    "    \n",
    "    if alternative == 'less':\n",
    "        p_value = stats.norm().cdf(z_obs)\n",
    "        z_crit = stats.norm().ppf(1 - alpha)\n",
    "        \n",
    "        statistics = ['-z_crit', '-z_obs']\n",
    "        params = dict(zip(statistics, [(-z_crit, -0.6, -margin, -z_crit, 'b'), \n",
    "                                       (-z_obs, -0.6, -margin, -z_obs, 'r')]))\n",
    "\n",
    "    if alternative == 'larger':\n",
    "        p_value = 1 - stats.norm().cdf(z_obs)\n",
    "        z_crit = stats.norm().ppf(1 - alpha)\n",
    "        \n",
    "        statistics = ['z_crit', 'z_obs']\n",
    "        params = dict(zip(statistics, [(z_crit, 0.05, z_crit, margin, 'b'),\n",
    "                                       (z_obs, 0.1, z_obs, margin, 'r')]))\n",
    "    \n",
    "    \n",
    "    plt.figure(figsize = (10, 5))\n",
    "    x = np.linspace(-margin, margin)\n",
    "    pdf = stats.norm().pdf(x)\n",
    "\n",
    "    plt.plot(x, pdf, color=\"black\")\n",
    "    plt.ylabel(\"$f(x)$\", fontsize=16)\n",
    "    plt.xlabel(\"$x$\", fontsize=16)\n",
    "    y_max = plt.ylim()[1]\n",
    "    \n",
    "    for i in range(len(statistics)):\n",
    "        statistic, text_margin, left_bound, right_bound, color = params[statistics[i]]\n",
    "        \n",
    "        plt.axvline(statistic, color=color, linestyle=\"--\", lw=2)\n",
    "        h = 0.8 if statistics[i].split('_')[-1] == 'crit' else 0.6\n",
    "        plt.text(statistic + text_margin, \n",
    "                 h*y_max, round(statistic, 2), color=color, fontsize=16)\n",
    "        \n",
    "        xq = np.linspace(left_bound, right_bound)\n",
    "        yq = stats.norm().pdf(xq)\n",
    "        plt.fill_between(xq, 0, yq, color=color, alpha=0.2)\n",
    "    \n",
    "    return p_value"
   ]
  },
  {
   "cell_type": "markdown",
   "metadata": {
    "id": "Iar5maa6nq23"
   },
   "source": [
    "# Пример с Джеймсом Бондом"
   ]
  },
  {
   "cell_type": "code",
   "execution_count": 40,
   "metadata": {},
   "outputs": [
    {
     "data": {
      "text/plain": [
       "0.6324555320336757"
      ]
     },
     "execution_count": 40,
     "metadata": {},
     "output_type": "execute_result"
    }
   ],
   "source": [
    "p_0 = 0.5 # нулевая гипотеза: предполагаем, что Джеймс Бонд случайно угадывает - доля угадываний = 0.5\n",
    "p_hat = 0.6 # выборочная доля, угадывает чаще\n",
    "n = 10 # размер выборки\n",
    "\n",
    "p_hat_std = (p_0*(1-p_0)/n)**0.5 # дисперсия при верности нулевой гипотезы\n",
    "\n",
    "z_obs = (p_hat-p_0) / p_hat_std\n",
    "z_obs"
   ]
  },
  {
   "cell_type": "code",
   "execution_count": 41,
   "metadata": {},
   "outputs": [
    {
     "data": {
      "text/plain": [
       "0.15811388300841897"
      ]
     },
     "execution_count": 41,
     "metadata": {},
     "output_type": "execute_result"
    }
   ],
   "source": [
    "p_hat_std"
   ]
  },
  {
   "cell_type": "code",
   "execution_count": 43,
   "metadata": {},
   "outputs": [
    {
     "data": {
      "text/plain": [
       "0.15491933384829668"
      ]
     },
     "execution_count": 43,
     "metadata": {},
     "output_type": "execute_result"
    }
   ],
   "source": [
    "np.sqrt(np.array([1] * 6 + [0] * 4).var() / 10)"
   ]
  },
  {
   "cell_type": "code",
   "execution_count": 4,
   "metadata": {},
   "outputs": [
    {
     "data": {
      "text/plain": [
       "1.959963984540054"
      ]
     },
     "execution_count": 4,
     "metadata": {},
     "output_type": "execute_result"
    }
   ],
   "source": [
    "alpha = 0.05 # уровень значимости \n",
    "z_crit = stats.norm.ppf(1-alpha/2) # критическое значение\n",
    "z_crit"
   ]
  },
  {
   "cell_type": "code",
   "execution_count": 5,
   "metadata": {},
   "outputs": [
    {
     "data": {
      "text/plain": [
       "(0.2901024838477192, 0.9098975161522808)"
      ]
     },
     "execution_count": 5,
     "metadata": {},
     "output_type": "execute_result"
    }
   ],
   "source": [
    "# доверительный интервал\n",
    "p_hat - z_crit*p_hat_std, p_hat + z_crit*p_hat_std\n",
    "\n",
    "# наше предполагаемое значение p_0 попало в ДИ\n",
    "# связано с тем, что мы не отвергаем нулевую гипотезу"
   ]
  },
  {
   "cell_type": "code",
   "execution_count": 6,
   "metadata": {},
   "outputs": [
    {
     "data": {
      "text/plain": [
       "0.5270892568655383"
      ]
     },
     "execution_count": 6,
     "metadata": {},
     "output_type": "execute_result"
    }
   ],
   "source": [
    "# посчитаем p-значение\n",
    "# хвостов у нас 2, поэтому умножаем на 2\n",
    "p_value = 2*stats.norm.cdf(-np.abs(z_obs))\n",
    "p_value"
   ]
  },
  {
   "cell_type": "code",
   "execution_count": 7,
   "metadata": {},
   "outputs": [
    {
     "data": {
      "text/plain": [
       "True"
      ]
     },
     "execution_count": 7,
     "metadata": {},
     "output_type": "execute_result"
    }
   ],
   "source": [
    "# гипотеза (H_0: p_0 = 0.5) данным не противоречит \n",
    "# => нет оснований утверждать, что Джеймс отличает два вида напитков\n",
    "p_value > alpha"
   ]
  },
  {
   "cell_type": "code",
   "execution_count": 8,
   "metadata": {},
   "outputs": [
    {
     "data": {
      "text/plain": [
       "(0.5270892568655383, 0.05)"
      ]
     },
     "execution_count": 8,
     "metadata": {},
     "output_type": "execute_result"
    }
   ],
   "source": [
    "p_value, alpha"
   ]
  },
  {
   "cell_type": "code",
   "execution_count": 9,
   "metadata": {},
   "outputs": [
    {
     "data": {
      "text/plain": [
       "0.5270892568655383"
      ]
     },
     "execution_count": 9,
     "metadata": {},
     "output_type": "execute_result"
    },
    {
     "data": {
      "image/png": "[encoded data removed]",
      "text/plain": [
       "<Figure size 720x360 with 1 Axes>"
      ]
     },
     "metadata": {},
     "output_type": "display_data"
    },
    {
     "data": {
      "image/png": "[encoded data removed]",
      "text/plain": [
       "<Figure size 720x360 with 1 Axes>"
      ]
     },
     "metadata": {},
     "output_type": "display_data"
    }
   ],
   "source": [
    "asy_mean_test(p_hat, p_hat_std, p_0, \n",
    "                   alpha=0.05, alternative='two-sided', margin=3)\n",
    "\n",
    "asy_mean_test(p_hat, p_hat_std, p_0, \n",
    "                   alpha=0.01, alternative='two-sided', margin=3)"
   ]
  },
  {
   "cell_type": "markdown",
   "metadata": {},
   "source": [
    "# Пример, как решать дз на основе:  О мышах и людях\n",
    "\n",
    "Правда ли, что женщины намного кровожаднее мужчин и жмут на кнопку гораздо быстрее?"
   ]
  },
  {
   "cell_type": "code",
   "execution_count": 17,
   "metadata": {},
   "outputs": [],
   "source": [
    "men = df[(df['GENDER'] == 1)]['RT'].dropna().values\n",
    "women = df[(df['GENDER'] == 0)]['RT'].dropna().values"
   ]
  },
  {
   "cell_type": "markdown",
   "metadata": {},
   "source": [
    "Проверяем гипотезы на уровне значимости 0.05"
   ]
  },
  {
   "cell_type": "markdown",
   "metadata": {},
   "source": [
    "#### 0. Как выглядят гипотезы\n",
    "\n",
    "$H_0$: средняя время нажатия у женщин < у мужчин\n",
    "\n",
    "$H_1$: неверно -> средняя время нажатия у женщин >= у мужчин"
   ]
  },
  {
   "cell_type": "markdown",
   "metadata": {},
   "source": [
    "#### 1. Визуально оцениваем, насколько есть или нет эффекта + смотрим на выбросы"
   ]
  },
  {
   "cell_type": "code",
   "execution_count": 18,
   "metadata": {},
   "outputs": [
    {
     "data": {
      "text/plain": [
       "57"
      ]
     },
     "execution_count": 18,
     "metadata": {},
     "output_type": "execute_result"
    }
   ],
   "source": [
    "len(men)"
   ]
  },
  {
   "cell_type": "code",
   "execution_count": 19,
   "metadata": {},
   "outputs": [
    {
     "data": {
      "text/plain": [
       "109"
      ]
     },
     "execution_count": 19,
     "metadata": {},
     "output_type": "execute_result"
    }
   ],
   "source": [
    "len(women)"
   ]
  },
  {
   "cell_type": "code",
   "execution_count": 24,
   "metadata": {},
   "outputs": [
    {
     "data": {
      "image/png": "[encoded data removed]",
      "text/plain": [
       "<Figure size 640x480 with 1 Axes>"
      ]
     },
     "metadata": {},
     "output_type": "display_data"
    }
   ],
   "source": [
    "plt.hist(men, density=True, alpha=0.5, label='men')\n",
    "plt.hist(women, density=True, alpha=0.5,  label='women')\n",
    "plt.legend();"
   ]
  },
  {
   "cell_type": "code",
   "execution_count": 27,
   "metadata": {},
   "outputs": [
    {
     "data": {
      "image/png": "[encoded data removed]",
      "text/plain": [
       "<Figure size 640x480 with 1 Axes>"
      ]
     },
     "metadata": {},
     "output_type": "display_data"
    }
   ],
   "source": [
    "plt.boxplot(men);"
   ]
  },
  {
   "cell_type": "code",
   "execution_count": 28,
   "metadata": {},
   "outputs": [
    {
     "data": {
      "image/png": "[encoded data removed]",
      "text/plain": [
       "<Figure size 640x480 with 1 Axes>"
      ]
     },
     "metadata": {},
     "output_type": "display_data"
    }
   ],
   "source": [
    "\n",
    "plt.boxplot(women);"
   ]
  },
  {
   "cell_type": "markdown",
   "metadata": {},
   "source": [
    "#### 2. Проверим нормальность"
   ]
  },
  {
   "cell_type": "code",
   "execution_count": 29,
   "metadata": {},
   "outputs": [
    {
     "data": {
      "text/plain": [
       "ShapiroResult(statistic=0.9218534231185913, pvalue=0.0012624505907297134)"
      ]
     },
     "execution_count": 29,
     "metadata": {},
     "output_type": "execute_result"
    }
   ],
   "source": [
    "stats.shapiro(men)"
   ]
  },
  {
   "cell_type": "code",
   "execution_count": 30,
   "metadata": {},
   "outputs": [
    {
     "data": {
      "text/plain": [
       "ShapiroResult(statistic=0.959861159324646, pvalue=0.002318052342161536)"
      ]
     },
     "execution_count": 30,
     "metadata": {},
     "output_type": "execute_result"
    }
   ],
   "source": [
    "stats.shapiro(women)"
   ]
  },
  {
   "cell_type": "markdown",
   "metadata": {},
   "source": [
    "#### 3. Зависимые или нет наши выборки?"
   ]
  },
  {
   "cell_type": "markdown",
   "metadata": {},
   "source": [
    "#### 4. Применяем критерий"
   ]
  },
  {
   "cell_type": "markdown",
   "metadata": {},
   "source": [
    "Так как нет нормальности, надо применить асимптотический тест. Но так как он (асимптотический тест) не реализован, при этом выбросов нет, выборки достаточно большие, поэтому применим двухвыборочный критерий Стьюдента"
   ]
  },
  {
   "cell_type": "code",
   "execution_count": 39,
   "metadata": {},
   "outputs": [
    {
     "data": {
      "text/plain": [
       "Ttest_indResult(statistic=1.3667965362395984, pvalue=0.08677991926013004)"
      ]
     },
     "execution_count": 39,
     "metadata": {},
     "output_type": "execute_result"
    }
   ],
   "source": [
    "stats.ttest_ind(women, men, alternative='greater')"
   ]
  },
  {
   "cell_type": "markdown",
   "metadata": {},
   "source": [
    "Что делаем: не отвергаем нулевую гипотезу, то есть мы не отвергаем, что женщины кровожаднее мужчин???\n",
    "\n",
    "В чём несоответвие? Так как мы статзначимо хотим сказать, что женщины жмут быстрее, мы должны занести это утверждение в альтернативу."
   ]
  },
  {
   "cell_type": "markdown",
   "metadata": {},
   "source": [
    "$H_0$: средняя время нажатия у женщин >= у мужчин (наоборот, женщины менее кровожаднее)\n",
    "\n",
    "$H_1$: неверно -> средняя время нажатия у женщин < у мужчин"
   ]
  },
  {
   "cell_type": "code",
   "execution_count": 36,
   "metadata": {},
   "outputs": [
    {
     "data": {
      "text/plain": [
       "Ttest_indResult(statistic=1.3667965362395984, pvalue=0.9132200807398699)"
      ]
     },
     "execution_count": 36,
     "metadata": {},
     "output_type": "execute_result"
    }
   ],
   "source": [
    "stats.ttest_ind(women, men, alternative='less')"
   ]
  },
  {
   "cell_type": "markdown",
   "metadata": {},
   "source": [
    "Получилось, что мы не можем статзначимо сказать, что женщины кровожаднее"
   ]
  },
  {
   "cell_type": "markdown",
   "metadata": {},
   "source": [
    "# Ниже можно посмотреть на примеры из 5 семинара с реализацией и формулами"
   ]
  },
  {
   "cell_type": "markdown",
   "metadata": {
    "id": "MbLYMEFvnuPW"
   },
   "source": [
    "## **Среднее** и кровожадность\n",
    "\n",
    "Кровожадные люди быстро берут на себя ответственность за удар мышки током. Будем считать, что кровожадные люди принимают решение менее, чем за пять секунд. Правда ли, что люди по своей природе кровожадные? \n",
    "\n",
    "$$\n",
    "\\begin{aligned}\n",
    "&H_0: \\hspace{2mm} \\mu \\le 5 \\hspace{2mm} \\text{Люди кровожадны} \\\\\n",
    "&H_1: \\hspace{2mm} \\mu > 5  \\hspace{2mm} \\text{Люди не кровожадны}\n",
    "\\end{aligned}\n",
    "$$"
   ]
  },
  {
   "cell_type": "code",
   "execution_count": 11,
   "metadata": {},
   "outputs": [],
   "source": [
    "men = df[(df['GENDER'] == 1)]['RT'].dropna().values\n",
    "women = df[(df['GENDER'] == 0)]['RT'].dropna().values"
   ]
  },
  {
   "cell_type": "code",
   "execution_count": 10,
   "metadata": {},
   "outputs": [
    {
     "data": {
      "text/html": [
       "<div>\n",
       "<style scoped>\n",
       "    .dataframe tbody tr th:only-of-type {\n",
       "        vertical-align: middle;\n",
       "    }\n",
       "\n",
       "    .dataframe tbody tr th {\n",
       "        vertical-align: top;\n",
       "    }\n",
       "\n",
       "    .dataframe thead th {\n",
       "        text-align: right;\n",
       "    }\n",
       "</style>\n",
       "<table border=\"1\" class=\"dataframe\">\n",
       "  <thead>\n",
       "    <tr style=\"text-align: right;\">\n",
       "      <th></th>\n",
       "      <th>STUDY</th>\n",
       "      <th>AGE</th>\n",
       "      <th>GENDER</th>\n",
       "      <th>DECISION</th>\n",
       "      <th>DEO1</th>\n",
       "      <th>DEO2</th>\n",
       "      <th>DEO3</th>\n",
       "      <th>DEO4</th>\n",
       "      <th>DEO5</th>\n",
       "      <th>DEO6</th>\n",
       "      <th>...</th>\n",
       "      <th>AE</th>\n",
       "      <th>MOUSE1</th>\n",
       "      <th>MOUSE2</th>\n",
       "      <th>MOUSE3</th>\n",
       "      <th>MOUSE</th>\n",
       "      <th>DOUBT</th>\n",
       "      <th>OTHERCHOICE</th>\n",
       "      <th>UNCOMFORTABLE</th>\n",
       "      <th>NOSHOCK</th>\n",
       "      <th>RT</th>\n",
       "    </tr>\n",
       "  </thead>\n",
       "  <tbody>\n",
       "    <tr>\n",
       "      <th>0</th>\n",
       "      <td>1</td>\n",
       "      <td>38</td>\n",
       "      <td>1</td>\n",
       "      <td>NaN</td>\n",
       "      <td>2</td>\n",
       "      <td>2</td>\n",
       "      <td>2</td>\n",
       "      <td>1</td>\n",
       "      <td>2</td>\n",
       "      <td>2</td>\n",
       "      <td>...</td>\n",
       "      <td>5.000000</td>\n",
       "      <td>6.0</td>\n",
       "      <td>5.0</td>\n",
       "      <td>5.0</td>\n",
       "      <td>5.333333</td>\n",
       "      <td>NaN</td>\n",
       "      <td>NaN</td>\n",
       "      <td>NaN</td>\n",
       "      <td>NaN</td>\n",
       "      <td>NaN</td>\n",
       "    </tr>\n",
       "    <tr>\n",
       "      <th>1</th>\n",
       "      <td>1</td>\n",
       "      <td>22</td>\n",
       "      <td>1</td>\n",
       "      <td>NaN</td>\n",
       "      <td>1</td>\n",
       "      <td>2</td>\n",
       "      <td>2</td>\n",
       "      <td>1</td>\n",
       "      <td>2</td>\n",
       "      <td>1</td>\n",
       "      <td>...</td>\n",
       "      <td>5.727273</td>\n",
       "      <td>5.0</td>\n",
       "      <td>6.0</td>\n",
       "      <td>6.0</td>\n",
       "      <td>5.666667</td>\n",
       "      <td>NaN</td>\n",
       "      <td>NaN</td>\n",
       "      <td>NaN</td>\n",
       "      <td>NaN</td>\n",
       "      <td>NaN</td>\n",
       "    </tr>\n",
       "    <tr>\n",
       "      <th>2</th>\n",
       "      <td>1</td>\n",
       "      <td>39</td>\n",
       "      <td>1</td>\n",
       "      <td>NaN</td>\n",
       "      <td>1</td>\n",
       "      <td>1</td>\n",
       "      <td>3</td>\n",
       "      <td>5</td>\n",
       "      <td>3</td>\n",
       "      <td>1</td>\n",
       "      <td>...</td>\n",
       "      <td>5.545455</td>\n",
       "      <td>6.0</td>\n",
       "      <td>6.0</td>\n",
       "      <td>6.0</td>\n",
       "      <td>6.000000</td>\n",
       "      <td>NaN</td>\n",
       "      <td>NaN</td>\n",
       "      <td>NaN</td>\n",
       "      <td>NaN</td>\n",
       "      <td>NaN</td>\n",
       "    </tr>\n",
       "    <tr>\n",
       "      <th>3</th>\n",
       "      <td>1</td>\n",
       "      <td>21</td>\n",
       "      <td>0</td>\n",
       "      <td>1.0</td>\n",
       "      <td>2</td>\n",
       "      <td>3</td>\n",
       "      <td>3</td>\n",
       "      <td>3</td>\n",
       "      <td>3</td>\n",
       "      <td>2</td>\n",
       "      <td>...</td>\n",
       "      <td>5.136364</td>\n",
       "      <td>4.0</td>\n",
       "      <td>7.0</td>\n",
       "      <td>7.0</td>\n",
       "      <td>6.000000</td>\n",
       "      <td>2.0</td>\n",
       "      <td>0.0</td>\n",
       "      <td>6.0</td>\n",
       "      <td>80.0</td>\n",
       "      <td>9.212427</td>\n",
       "    </tr>\n",
       "    <tr>\n",
       "      <th>4</th>\n",
       "      <td>1</td>\n",
       "      <td>20</td>\n",
       "      <td>0</td>\n",
       "      <td>1.0</td>\n",
       "      <td>4</td>\n",
       "      <td>2</td>\n",
       "      <td>2</td>\n",
       "      <td>2</td>\n",
       "      <td>2</td>\n",
       "      <td>2</td>\n",
       "      <td>...</td>\n",
       "      <td>4.181818</td>\n",
       "      <td>4.0</td>\n",
       "      <td>6.0</td>\n",
       "      <td>6.0</td>\n",
       "      <td>5.333333</td>\n",
       "      <td>4.0</td>\n",
       "      <td>0.0</td>\n",
       "      <td>6.5</td>\n",
       "      <td>75.0</td>\n",
       "      <td>17.071711</td>\n",
       "    </tr>\n",
       "  </tbody>\n",
       "</table>\n",
       "<p>5 rows × 132 columns</p>\n",
       "</div>"
      ],
      "text/plain": [
       "   STUDY  AGE  GENDER  DECISION  DEO1  DEO2  DEO3  DEO4  DEO5  DEO6  ...  \\\n",
       "0      1   38       1       NaN     2     2     2     1     2     2  ...   \n",
       "1      1   22       1       NaN     1     2     2     1     2     1  ...   \n",
       "2      1   39       1       NaN     1     1     3     5     3     1  ...   \n",
       "3      1   21       0       1.0     2     3     3     3     3     2  ...   \n",
       "4      1   20       0       1.0     4     2     2     2     2     2  ...   \n",
       "\n",
       "         AE  MOUSE1  MOUSE2  MOUSE3     MOUSE  DOUBT  OTHERCHOICE  \\\n",
       "0  5.000000     6.0     5.0     5.0  5.333333    NaN          NaN   \n",
       "1  5.727273     5.0     6.0     6.0  5.666667    NaN          NaN   \n",
       "2  5.545455     6.0     6.0     6.0  6.000000    NaN          NaN   \n",
       "3  5.136364     4.0     7.0     7.0  6.000000    2.0          0.0   \n",
       "4  4.181818     4.0     6.0     6.0  5.333333    4.0          0.0   \n",
       "\n",
       "   UNCOMFORTABLE  NOSHOCK         RT  \n",
       "0            NaN      NaN        NaN  \n",
       "1            NaN      NaN        NaN  \n",
       "2            NaN      NaN        NaN  \n",
       "3            6.0     80.0   9.212427  \n",
       "4            6.5     75.0  17.071711  \n",
       "\n",
       "[5 rows x 132 columns]"
      ]
     },
     "execution_count": 10,
     "metadata": {},
     "output_type": "execute_result"
    }
   ],
   "source": [
    "df = pd.read_csv(\"mouse.csv\", sep=\"\\t\")\n",
    "df.head()"
   ]
  },
  {
   "cell_type": "markdown",
   "metadata": {
    "id": "7oNtvhv0nuPE"
   },
   "source": [
    "* Возможности `scipy` для проверки гипотез смотрите [в разделе Statistical tests](https://docs.scipy.org/doc/scipy/reference/stats.html)\n",
    "* Возможности `statsmodels`  [в модуле stats](https://www.statsmodels.org/0.6.1/stats.html)\n",
    "\n",
    "> Если используете встроенные функции, внимательно читайте документацию и проверяйте как именно расчитываются параметры."
   ]
  },
  {
   "cell_type": "code",
   "execution_count": 2,
   "metadata": {
    "id": "F0QAzGgMnuPF"
   },
   "outputs": [],
   "source": [
    "from scipy import stats\n",
    "import statsmodels as sts \n",
    "import numpy as np"
   ]
  },
  {
   "cell_type": "code",
   "execution_count": 3,
   "metadata": {},
   "outputs": [
    {
     "data": {
      "text/plain": [
       "0.05777957112359711"
      ]
     },
     "execution_count": 3,
     "metadata": {},
     "output_type": "execute_result"
    }
   ],
   "source": [
    "alpha = 0.05\n",
    "mean = 8/10\n",
    "p_0 = 0.5\n",
    "n = 10\n",
    "\n",
    "z_obs = (mean-p_0)/(p_0*(1-p_0)/n)**0.5\n",
    "\n",
    "2*(1-stats.norm.cdf(np.abs(z_obs)))\n",
    "# явно больше 0.05"
   ]
  },
  {
   "cell_type": "code",
   "execution_count": 4,
   "metadata": {},
   "outputs": [
    {
     "data": {
      "text/plain": [
       "1.959963984540054"
      ]
     },
     "execution_count": 4,
     "metadata": {},
     "output_type": "execute_result"
    }
   ],
   "source": [
    "stats.norm.ppf(1-alpha/2)"
   ]
  },
  {
   "cell_type": "code",
   "execution_count": 5,
   "metadata": {},
   "outputs": [
    {
     "data": {
      "text/plain": [
       "1.6448536269514722"
      ]
     },
     "execution_count": 5,
     "metadata": {},
     "output_type": "execute_result"
    }
   ],
   "source": [
    "stats.norm.ppf(1-alpha)"
   ]
  },
  {
   "cell_type": "code",
   "execution_count": 6,
   "metadata": {},
   "outputs": [],
   "source": [
    "# asy_mean_test(\n",
    "#     mean, \n",
    "#     (p_0*(1-p_0)/n)**0.5, \n",
    "#     mu_0=p_0, alpha=0.05, alternative='two-sided')"
   ]
  },
  {
   "cell_type": "markdown",
   "metadata": {
    "id": "Ym0ca0pJnuPB"
   },
   "source": [
    "\n",
    "\n",
    "Для изучения аспектов процесса принятия моральных решений психологи уже много лет используют этические дилеммы, с помощью которых оценивают действия людей в гипотетических ситуациях. Один из самых известных примеров — это [проблема вагонетки,](https://ru.wikipedia.org/wiki/Проблема_вагонетки) в которой необходимо принять решение о том, стоит ли пожертвовать одним человеком для спасения пятерых."
   ]
  },
  {
   "cell_type": "markdown",
   "metadata": {
    "id": "--M0ZuD1nuPH"
   },
   "source": [
    "Бельгийские психологи воплотили дилемму в реальную жизнь. Участники эксперимента должны были выбрать, ударить током пять мышей или одну мышь. Эксперимент проходил следующим образом. Участника сажали перед двумя клетками, в одной из которых сидели пять мышей, а в другой — одна. Перед клетками стоял ноутбук с $20$-секундным таймером: участникам сообщили, что по истечении этих $20$ секунд в клетку с пятью мышами пустят ток, и мыши получат не смертельный, но очень болезненный удар. Пока время идет, участник может нажать на кнопку: в этом случае ток пустят по клетке с одной мышью. В исследовании использовали живых мышей. \n",
    "\n",
    "Удары тока были ненастоящими: сразу же после «удара» участников сопроводили в отдельную комнату, где разъяснили им, что мыши в полном порядке и током их не били (об этом заранее догадались только $12$ участников). В решении реальной проблемы вагонетки приняли участие $192$ человека, а еще $83$ решали такую же задачку, но гипотетическую (на бумаге). Все участники также прошли онлайн-опросы, в ходе которых учёные собрали о респондентах кучу дополнительной информации. \n",
    "\n",
    "В файле `mouse.csv` лежит информация о том, как прошёл эксперимент. Нас будут интересовать столбцы: \n",
    "\n",
    "* __STUDY:__ какую проблему вагонетки решал человек $1$ если реальную, $2$ если на бумаге\n",
    "* __AGE:__ возраст респондента \n",
    "* __GENDER:__ пол респондента\n",
    "* __DECISION:__ решение дилеммы ($1$ - жать на кнопу, $0$ - не жать) \n",
    "* __RT:__ время, которое респондент потратил, чтобы нажать на кнопку \n",
    "\n",
    "Подробное описание данных, сами данные и даже код на R, использованный при оценивании моделей, можно найти в [репозитории исследования.](https://osf.io/kvb99/) В статье авторы строили несколько логистических регрессий, чтобы очистить эффект от психологических особенностей респондентов. Про подобные приёмы очистки мы немного поговорим позже.  Также более подробно про исследование [можно почитать на N + 1.](https://nplus1.ru/news/2018/05/11/mice-trolley)"
   ]
  },
  {
   "cell_type": "code",
   "execution_count": 7,
   "metadata": {
    "id": "bxyxGAWdnuPJ",
    "outputId": "fd29487b-10ba-421e-9199-9d770fb80041"
   },
   "outputs": [
    {
     "data": {
      "text/html": [
       "<div>\n",
       "<style scoped>\n",
       "    .dataframe tbody tr th:only-of-type {\n",
       "        vertical-align: middle;\n",
       "    }\n",
       "\n",
       "    .dataframe tbody tr th {\n",
       "        vertical-align: top;\n",
       "    }\n",
       "\n",
       "    .dataframe thead th {\n",
       "        text-align: right;\n",
       "    }\n",
       "</style>\n",
       "<table border=\"1\" class=\"dataframe\">\n",
       "  <thead>\n",
       "    <tr style=\"text-align: right;\">\n",
       "      <th></th>\n",
       "      <th>STUDY</th>\n",
       "      <th>AGE</th>\n",
       "      <th>GENDER</th>\n",
       "      <th>DECISION</th>\n",
       "      <th>DEO1</th>\n",
       "      <th>DEO2</th>\n",
       "      <th>DEO3</th>\n",
       "      <th>DEO4</th>\n",
       "      <th>DEO5</th>\n",
       "      <th>DEO6</th>\n",
       "      <th>...</th>\n",
       "      <th>AE</th>\n",
       "      <th>MOUSE1</th>\n",
       "      <th>MOUSE2</th>\n",
       "      <th>MOUSE3</th>\n",
       "      <th>MOUSE</th>\n",
       "      <th>DOUBT</th>\n",
       "      <th>OTHERCHOICE</th>\n",
       "      <th>UNCOMFORTABLE</th>\n",
       "      <th>NOSHOCK</th>\n",
       "      <th>RT</th>\n",
       "    </tr>\n",
       "  </thead>\n",
       "  <tbody>\n",
       "    <tr>\n",
       "      <th>0</th>\n",
       "      <td>1</td>\n",
       "      <td>38</td>\n",
       "      <td>1</td>\n",
       "      <td>NaN</td>\n",
       "      <td>2</td>\n",
       "      <td>2</td>\n",
       "      <td>2</td>\n",
       "      <td>1</td>\n",
       "      <td>2</td>\n",
       "      <td>2</td>\n",
       "      <td>...</td>\n",
       "      <td>5.000000</td>\n",
       "      <td>6.0</td>\n",
       "      <td>5.0</td>\n",
       "      <td>5.0</td>\n",
       "      <td>5.333333</td>\n",
       "      <td>NaN</td>\n",
       "      <td>NaN</td>\n",
       "      <td>NaN</td>\n",
       "      <td>NaN</td>\n",
       "      <td>NaN</td>\n",
       "    </tr>\n",
       "    <tr>\n",
       "      <th>1</th>\n",
       "      <td>1</td>\n",
       "      <td>22</td>\n",
       "      <td>1</td>\n",
       "      <td>NaN</td>\n",
       "      <td>1</td>\n",
       "      <td>2</td>\n",
       "      <td>2</td>\n",
       "      <td>1</td>\n",
       "      <td>2</td>\n",
       "      <td>1</td>\n",
       "      <td>...</td>\n",
       "      <td>5.727273</td>\n",
       "      <td>5.0</td>\n",
       "      <td>6.0</td>\n",
       "      <td>6.0</td>\n",
       "      <td>5.666667</td>\n",
       "      <td>NaN</td>\n",
       "      <td>NaN</td>\n",
       "      <td>NaN</td>\n",
       "      <td>NaN</td>\n",
       "      <td>NaN</td>\n",
       "    </tr>\n",
       "    <tr>\n",
       "      <th>2</th>\n",
       "      <td>1</td>\n",
       "      <td>39</td>\n",
       "      <td>1</td>\n",
       "      <td>NaN</td>\n",
       "      <td>1</td>\n",
       "      <td>1</td>\n",
       "      <td>3</td>\n",
       "      <td>5</td>\n",
       "      <td>3</td>\n",
       "      <td>1</td>\n",
       "      <td>...</td>\n",
       "      <td>5.545455</td>\n",
       "      <td>6.0</td>\n",
       "      <td>6.0</td>\n",
       "      <td>6.0</td>\n",
       "      <td>6.000000</td>\n",
       "      <td>NaN</td>\n",
       "      <td>NaN</td>\n",
       "      <td>NaN</td>\n",
       "      <td>NaN</td>\n",
       "      <td>NaN</td>\n",
       "    </tr>\n",
       "    <tr>\n",
       "      <th>3</th>\n",
       "      <td>1</td>\n",
       "      <td>21</td>\n",
       "      <td>0</td>\n",
       "      <td>1.0</td>\n",
       "      <td>2</td>\n",
       "      <td>3</td>\n",
       "      <td>3</td>\n",
       "      <td>3</td>\n",
       "      <td>3</td>\n",
       "      <td>2</td>\n",
       "      <td>...</td>\n",
       "      <td>5.136364</td>\n",
       "      <td>4.0</td>\n",
       "      <td>7.0</td>\n",
       "      <td>7.0</td>\n",
       "      <td>6.000000</td>\n",
       "      <td>2.0</td>\n",
       "      <td>0.0</td>\n",
       "      <td>6.0</td>\n",
       "      <td>80.0</td>\n",
       "      <td>9.212427</td>\n",
       "    </tr>\n",
       "    <tr>\n",
       "      <th>4</th>\n",
       "      <td>1</td>\n",
       "      <td>20</td>\n",
       "      <td>0</td>\n",
       "      <td>1.0</td>\n",
       "      <td>4</td>\n",
       "      <td>2</td>\n",
       "      <td>2</td>\n",
       "      <td>2</td>\n",
       "      <td>2</td>\n",
       "      <td>2</td>\n",
       "      <td>...</td>\n",
       "      <td>4.181818</td>\n",
       "      <td>4.0</td>\n",
       "      <td>6.0</td>\n",
       "      <td>6.0</td>\n",
       "      <td>5.333333</td>\n",
       "      <td>4.0</td>\n",
       "      <td>0.0</td>\n",
       "      <td>6.5</td>\n",
       "      <td>75.0</td>\n",
       "      <td>17.071711</td>\n",
       "    </tr>\n",
       "  </tbody>\n",
       "</table>\n",
       "<p>5 rows × 132 columns</p>\n",
       "</div>"
      ],
      "text/plain": [
       "   STUDY  AGE  GENDER  DECISION  DEO1  DEO2  DEO3  DEO4  DEO5  DEO6  ...  \\\n",
       "0      1   38       1       NaN     2     2     2     1     2     2  ...   \n",
       "1      1   22       1       NaN     1     2     2     1     2     1  ...   \n",
       "2      1   39       1       NaN     1     1     3     5     3     1  ...   \n",
       "3      1   21       0       1.0     2     3     3     3     3     2  ...   \n",
       "4      1   20       0       1.0     4     2     2     2     2     2  ...   \n",
       "\n",
       "         AE  MOUSE1  MOUSE2  MOUSE3     MOUSE  DOUBT  OTHERCHOICE  \\\n",
       "0  5.000000     6.0     5.0     5.0  5.333333    NaN          NaN   \n",
       "1  5.727273     5.0     6.0     6.0  5.666667    NaN          NaN   \n",
       "2  5.545455     6.0     6.0     6.0  6.000000    NaN          NaN   \n",
       "3  5.136364     4.0     7.0     7.0  6.000000    2.0          0.0   \n",
       "4  4.181818     4.0     6.0     6.0  5.333333    4.0          0.0   \n",
       "\n",
       "   UNCOMFORTABLE  NOSHOCK         RT  \n",
       "0            NaN      NaN        NaN  \n",
       "1            NaN      NaN        NaN  \n",
       "2            NaN      NaN        NaN  \n",
       "3            6.0     80.0   9.212427  \n",
       "4            6.5     75.0  17.071711  \n",
       "\n",
       "[5 rows x 132 columns]"
      ]
     },
     "execution_count": 7,
     "metadata": {},
     "output_type": "execute_result"
    }
   ],
   "source": [
    "df = pd.read_csv(\"mouse.csv\", sep=\"\\t\")\n",
    "df.head()"
   ]
  },
  {
   "cell_type": "code",
   "execution_count": 8,
   "metadata": {},
   "outputs": [
    {
     "data": {
      "text/plain": [
       "(291, 132)"
      ]
     },
     "execution_count": 8,
     "metadata": {},
     "output_type": "execute_result"
    }
   ],
   "source": [
    "df.shape"
   ]
  },
  {
   "cell_type": "code",
   "execution_count": 9,
   "metadata": {
    "id": "jWyscIQVnuPN"
   },
   "outputs": [],
   "source": [
    "# удалим пропуски для тех, кто не решил дилемму\n",
    "df.dropna(subset=['DECISION'], inplace=True)"
   ]
  },
  {
   "cell_type": "markdown",
   "metadata": {
    "id": "_yEaKc35nuPO"
   },
   "source": [
    "## **Доля** и нажатие на кнопку\n",
    "\n",
    "Попытаемся ответить на тот же вопрос, что и исследователи. В какой из двух ситуаций респонденты чаще принимают решение нажать кнопку: в реальной или на бумаге?"
   ]
  },
  {
   "cell_type": "code",
   "execution_count": 35,
   "metadata": {
    "id": "I0AZCSxnnuPP",
    "outputId": "b256cdc8-a7c7-4753-b1db-3cf621f4508c"
   },
   "outputs": [],
   "source": [
    "paper = df[df['STUDY'] == 1].DECISION.values\n",
    "real = df[df['STUDY'] == 2].DECISION.values\n"
   ]
  },
  {
   "cell_type": "code",
   "execution_count": 36,
   "metadata": {
    "id": "40HU05I3nuPQ",
    "outputId": "a72987d4-c340-4da3-8382-3b4ea6e3e22f"
   },
   "outputs": [
    {
     "data": {
      "text/plain": [
       "(0.8645833333333334, 0.7469879518072289)"
      ]
     },
     "execution_count": 36,
     "metadata": {},
     "output_type": "execute_result"
    }
   ],
   "source": [
    "paper.mean(), real.mean()"
   ]
  },
  {
   "cell_type": "markdown",
   "metadata": {},
   "source": [
    "### Двусторонняя гипотеза"
   ]
  },
  {
   "cell_type": "markdown",
   "metadata": {
    "id": "R4VLzLZUnuPQ"
   },
   "source": [
    "Проверка гипотезы о равенстве долей. Выборки независимые. \n",
    "\n",
    "$$\n",
    "\\begin{aligned}\n",
    "&H_0: \\hspace{2mm} p_x = p_y \\hspace{2mm} \\text{На бумаге и в реальности жмут на кнопку одинаково часто} \\\\\n",
    "&H_1: \\hspace{2mm} p_x \\ne p_y  \\hspace{2mm} \\text{Есть различия}\n",
    "\\end{aligned}\n",
    "$$\n",
    "\n",
    "> **Предпосылки:** нет выбросов, много наблюдений. Наблюдения независимы. Тогда сможем использовать ЦПТ.\n",
    "\n",
    "\n",
    "$$\n",
    "z=\\dfrac{\\hat{p}_{x}-\\hat{p}_{y}}{\\sqrt{P(1-P) \\cdot\\left(\\dfrac{1}{n_{x}}+\\dfrac{1}{n_{y}}\\right)}} \\sim N(0,1)\n",
    "$$\n",
    "\n",
    "где $P=\\dfrac{m_{x}+m_{y}}{n_{x}+n_{y}}$ и $m_i$ –число $1$ в выборке"
   ]
  },
  {
   "cell_type": "code",
   "execution_count": 37,
   "metadata": {
    "id": "H-RJITs_nuPR",
    "outputId": "1d9c9620-063e-43da-8bbe-0d45257d112b"
   },
   "outputs": [
    {
     "name": "stdout",
     "output_type": "stream",
     "text": [
      "2.38 не попадает в (-1.96 , 1.96) => Нулевая гипотеза отвергается\n"
     ]
    }
   ],
   "source": [
    "alpha = 0.05                                       # уровень значимости = 5%\n",
    "n1,n2 = paper.size, real.size                      # размеры выборок\n",
    "m1,m2 = paper.sum(), real.sum()                    # число успехов\n",
    "\n",
    "p1, p2 = paper.mean(), real.mean()                 # точеные оценки долей \n",
    "diff = p1 - p2                                     # разность долей\n",
    "\n",
    "P = (m1 + m2)/(n1 + n2)          \n",
    "diff_std = np.sqrt(P*(1 - P)*(1/n1 + 1/n2))        # стандартное отклонение разности\n",
    "                                    \n",
    "z_obs = diff/diff_std                              # наблюдаемое значение статистики \n",
    "z_crit = stats.norm.ppf(1 - alpha/2)               # критическое значение статистики\n",
    "\n",
    "print(f'{z_obs:.3} не попадает в ({-z_crit:.3} , {z_crit:.3}) => Нулевая гипотеза отвергается')"
   ]
  },
  {
   "cell_type": "code",
   "execution_count": 38,
   "metadata": {},
   "outputs": [
    {
     "data": {
      "text/plain": [
       "0.017402155611556003"
      ]
     },
     "execution_count": 38,
     "metadata": {},
     "output_type": "execute_result"
    }
   ],
   "source": [
    "# p-value для двустороенней гипотезы (домножается на два)\n",
    "2*(1-stats.norm.cdf(np.abs(z_obs)))"
   ]
  },
  {
   "cell_type": "markdown",
   "metadata": {
    "id": "Xg-rm2X_nuPS"
   },
   "source": [
    "Применим функцию, которую мы задали выше и посмотрим на картинку. "
   ]
  },
  {
   "cell_type": "code",
   "execution_count": 39,
   "metadata": {
    "id": "45RHksKFnuPU",
    "outputId": "fba1078b-230c-4169-b086-7c88cedbc4a1"
   },
   "outputs": [
    {
     "data": {
      "text/plain": [
       "0.017402155611556003"
      ]
     },
     "execution_count": 39,
     "metadata": {},
     "output_type": "execute_result"
    },
    {
     "data": {
      "image/png": "[encoded data removed]",
      "text/plain": [
       "<Figure size 720x360 with 1 Axes>"
      ]
     },
     "metadata": {},
     "output_type": "display_data"
    }
   ],
   "source": [
    "asy_mean_test(diff, diff_std, mu_0=0, alpha=0.05, alternative='two-sided')"
   ]
  },
  {
   "cell_type": "markdown",
   "metadata": {},
   "source": [
    "### Односторонняя гипотеза"
   ]
  },
  {
   "cell_type": "markdown",
   "metadata": {
    "id": "5S9Z1cPInuPU"
   },
   "source": [
    "$$\n",
    "\\begin{aligned}\n",
    "&H_0: \\hspace{2mm} p_x = p_y \\hspace{2mm} \\text{На бумаге и в реальности жмут на кнопку одинаково часто} \\\\\n",
    "&H_1: \\hspace{2mm} p_x > p_y  \\hspace{2mm} \\text{На бумаге на кнопку жмут чаще}\n",
    "\\end{aligned}\n",
    "$$\n",
    "\n",
    "В случае односторонней альтернативы ошибка 1 рода, $\\alpha$, переносится на один из хвостов. "
   ]
  },
  {
   "cell_type": "code",
   "execution_count": 40,
   "metadata": {},
   "outputs": [
    {
     "data": {
      "text/plain": [
       "0.008701077805778001"
      ]
     },
     "execution_count": 40,
     "metadata": {},
     "output_type": "execute_result"
    }
   ],
   "source": [
    "# p-value для двустороенней гипотезы (домножается на два НЕ ДОЛЖНО)\n",
    "1-stats.norm.cdf(np.abs(z_obs))"
   ]
  },
  {
   "cell_type": "code",
   "execution_count": 41,
   "metadata": {
    "id": "u11_OYM9nuPV",
    "outputId": "3aedb6f7-a4c7-4fa8-b1e3-943abb21e488"
   },
   "outputs": [
    {
     "data": {
      "text/plain": [
       "0.008701077805778001"
      ]
     },
     "execution_count": 41,
     "metadata": {},
     "output_type": "execute_result"
    },
    {
     "data": {
      "image/png": "[encoded data removed]",
      "text/plain": [
       "<Figure size 720x360 with 1 Axes>"
      ]
     },
     "metadata": {},
     "output_type": "display_data"
    }
   ],
   "source": [
    "asy_mean_test(diff, diff_std, mu_0=0, alpha=0.05, alternative='larger')"
   ]
  },
  {
   "cell_type": "markdown",
   "metadata": {
    "id": "iSop-O6InuPV"
   },
   "source": [
    "То же самое средствами `statsmodels`. "
   ]
  },
  {
   "cell_type": "code",
   "execution_count": 42,
   "metadata": {
    "id": "HlXh6rpTnuPW",
    "outputId": "9c7fe641-750b-4a37-d267-9fe9173919e3"
   },
   "outputs": [
    {
     "name": "stdout",
     "output_type": "stream",
     "text": [
      "Наблюдаемое значение: 2.38\n",
      "P-значение: 0.0087\n"
     ]
    }
   ],
   "source": [
    "from statsmodels.stats.proportion import proportions_ztest\n",
    "\n",
    "alpha = 0.05                                       # уровень значимости = 5%\n",
    "n_obs = paper.size, real.size                      # размеры выборок\n",
    "m_obs = paper.sum(), real.sum()                    # число успехов\n",
    "\n",
    "z_obs, p_val =  proportions_ztest(m_obs, n_obs, value=0, \n",
    "                                  alternative='larger')\n",
    "\n",
    "print(f\"Наблюдаемое значение: {z_obs:.3}\") \n",
    "print(f\"P-значение: {p_val:.3}\") "
   ]
  },
  {
   "cell_type": "code",
   "execution_count": 43,
   "metadata": {},
   "outputs": [
    {
     "data": {
      "text/plain": [
       "0.008701077805778048"
      ]
     },
     "execution_count": 43,
     "metadata": {},
     "output_type": "execute_result"
    }
   ],
   "source": [
    "# просто p-value\n",
    "proportions_ztest(m_obs, n_obs, value=0, alternative='larger')[1]"
   ]
  },
  {
   "cell_type": "markdown",
   "metadata": {
    "id": "g9uhk6GfnuPW"
   },
   "source": [
    "> **Вывод:** гипотеза о том, что на кнопку жмут одинаково часто отвергается. На бумаге на кнопку жмут чаще."
   ]
  },
  {
   "cell_type": "markdown",
   "metadata": {
    "id": "MbLYMEFvnuPW"
   },
   "source": [
    "## **Среднее** и кровожадность\n",
    "\n",
    "Кровожадные люди быстро берут на себя ответственность за удар мышки током. Будем считать, что кровожадные люди принимают решение менее, чем за пять секунд. Правда ли, что люди по своей природе кровожадные? \n",
    "\n",
    "$$\n",
    "\\begin{aligned}\n",
    "&H_0: \\hspace{2mm} \\mu \\le 5 \\hspace{2mm} \\text{Люди кровожадны} \\\\\n",
    "&H_1: \\hspace{2mm} \\mu > 5  \\hspace{2mm} \\text{Люди не кровожадны}\n",
    "\\end{aligned}\n",
    "$$"
   ]
  },
  {
   "cell_type": "markdown",
   "metadata": {
    "id": "C7GJhM5ZnuPX"
   },
   "source": [
    "### Асимптотический тест "
   ]
  },
  {
   "cell_type": "markdown",
   "metadata": {},
   "source": [
    "Если предположить, что выборка достаточно велика и в ней нет выбросов, то можно воспользоваться ЦПТ и получить следующий критерий для тестирования гипотезы:\n",
    "$$\n",
    "z=\\frac{\\bar{x}-\\mu_0}{\\sqrt{\\dfrac{\\hat{\\sigma}^2}{n}}}\\sim N\\left(0,\\ 1\\right)\n",
    "$$\n"
   ]
  },
  {
   "cell_type": "code",
   "execution_count": 44,
   "metadata": {
    "id": "C2-SUkmmnuPX",
    "outputId": "b0696d78-c202-4186-8026-d4bd90e238cc"
   },
   "outputs": [
    {
     "name": "stdout",
     "output_type": "stream",
     "text": [
      "Наблюдаемое значение 13.0 больше критического 1.64 => нулевая гипотеза отвергается\n"
     ]
    }
   ],
   "source": [
    "# Асимптотический критерий\n",
    "x = df['RT'].dropna().values         # выборка\n",
    "\n",
    "alpha = 0.05                         # уровень значимости = 5%\n",
    "mu_0 = 5                             # тестируемое мат. ожидание выборки\n",
    "n = x.size                           # размер выборки\n",
    "mu = x.mean()                        # среднее значение\n",
    "std = x.std(ddof=1)/np.sqrt(n)       # стандартное отклонение\n",
    "\n",
    "z_obs = (mu - mu_0)/std                 # наблюдаемое значение статистики \n",
    "z_crit = stats.norm.ppf(1 - alpha)   # критическое значение статистики\n",
    "\n",
    "print(f'Наблюдаемое значение {z_obs:.3} больше критического {z_crit:.3} => нулевая гипотеза отвергается')"
   ]
  },
  {
   "cell_type": "code",
   "execution_count": 45,
   "metadata": {
    "id": "97PEFYyPnuPY",
    "outputId": "66aece2b-c99b-4458-bc6f-c684f22de9f2"
   },
   "outputs": [
    {
     "data": {
      "text/plain": [
       "(9.468100416884882, 10.76542499275367)"
      ]
     },
     "execution_count": 45,
     "metadata": {},
     "output_type": "execute_result"
    }
   ],
   "source": [
    "# Доверительный интервал\n",
    "x.mean() - z_crit*std, x.mean() + z_crit*std\n",
    "# 5 в доверительный интервал не попадает"
   ]
  },
  {
   "cell_type": "code",
   "execution_count": 46,
   "metadata": {
    "id": "7QMg99v4nuPY",
    "outputId": "142c9005-077f-454d-f54c-37839c10126f"
   },
   "outputs": [
    {
     "data": {
      "text/plain": [
       "0.0"
      ]
     },
     "execution_count": 46,
     "metadata": {},
     "output_type": "execute_result"
    }
   ],
   "source": [
    "# 0.008 = p-value < alpha = 0.05\n",
    "1-stats.norm.cdf(z_obs)"
   ]
  },
  {
   "cell_type": "code",
   "execution_count": 47,
   "metadata": {
    "id": "2XKK5GTGnuPZ",
    "outputId": "15881ef9-28c7-4abe-cd0a-e00ab4f68b59"
   },
   "outputs": [
    {
     "data": {
      "text/plain": [
       "0.0"
      ]
     },
     "execution_count": 47,
     "metadata": {},
     "output_type": "execute_result"
    },
    {
     "data": {
      "image/png": "[encoded data removed]",
      "text/plain": [
       "<Figure size 720x360 with 1 Axes>"
      ]
     },
     "metadata": {},
     "output_type": "display_data"
    }
   ],
   "source": [
    "asy_mean_test(mu, std, mu_0=5, alpha=0.05, \n",
    "              margin=15, alternative='larger')"
   ]
  },
  {
   "cell_type": "markdown",
   "metadata": {
    "id": "RuJmWo3_nuPZ"
   },
   "source": [
    "То же самое средствами `statsmodels`. "
   ]
  },
  {
   "cell_type": "code",
   "execution_count": 48,
   "metadata": {
    "id": "NctGlNmKnuPZ",
    "outputId": "a23fe09b-0dcb-43b6-efd8-8c794b1c954a"
   },
   "outputs": [
    {
     "name": "stdout",
     "output_type": "stream",
     "text": [
      "Наблюдаемое значение: 12.9749\n",
      "P-значение: 8.49e-39\n"
     ]
    }
   ],
   "source": [
    "from statsmodels.stats.weightstats import ztest\n",
    "\n",
    "z_obs, p_val = ztest(x, value=5, alternative='larger')\n",
    "\n",
    "print(f\"Наблюдаемое значение: {z_obs:.7}\") \n",
    "print(f\"P-значение: {p_val:.3}\") "
   ]
  },
  {
   "cell_type": "markdown",
   "metadata": {
    "id": "m-fN_4FrnuPa"
   },
   "source": [
    "### Точный тест "
   ]
  },
  {
   "cell_type": "markdown",
   "metadata": {},
   "source": [
    "Если предположить, что выборка из нормального распределения, то можно воспользоваться теоремой Фишера и получить следующий критерий для тестирования гипотезы:\n",
    "$$\n",
    "t=\\frac{\\bar{x}-\\mu_0}{\\sqrt{\\dfrac{\\hat{\\sigma}^2}{n}}}\\sim t\\left(n-1\\right)\n",
    "$$\n"
   ]
  },
  {
   "cell_type": "code",
   "execution_count": 49,
   "metadata": {
    "id": "MBHZzrOvnuPa",
    "outputId": "981684f7-0511-4b7c-8ad3-2427a72b5c22"
   },
   "outputs": [
    {
     "name": "stdout",
     "output_type": "stream",
     "text": [
      "Наблюдаемое значение 12.97 больше критического 1.654 => нулевая гипотеза отвергается\n"
     ]
    }
   ],
   "source": [
    "t_obs = (mu - 5)/std                     # наблюдаемое значение статистики \n",
    "t_crit = stats.t(n - 1).ppf(1 - alpha)   # критическое значение статистики\n",
    "\n",
    "print(f'Наблюдаемое значение {t_obs:.4} больше критического {t_crit:.4} => нулевая гипотеза отвергается')"
   ]
  },
  {
   "cell_type": "markdown",
   "metadata": {
    "id": "T8oo9OLunuPa"
   },
   "source": [
    "Каким тестом пользоваться? Точным или асимптотическим? "
   ]
  },
  {
   "cell_type": "code",
   "execution_count": 50,
   "metadata": {
    "id": "PwfjANHAnuPb",
    "outputId": "e1a24bc7-9f53-4cc6-e6f6-92d079de8f19"
   },
   "outputs": [
    {
     "data": {
      "image/png": "[encoded data removed]",
      "text/plain": [
       "<Figure size 432x288 with 1 Axes>"
      ]
     },
     "metadata": {},
     "output_type": "display_data"
    }
   ],
   "source": [
    "sns.histplot(x, bins=10, stat='density', kde=True)\n",
    "\n",
    "xs = np.linspace(0,21,100)\n",
    "pdf = stats.norm(x.mean(), x.std(ddof=1)).pdf(xs)\n",
    "plt.plot(xs, pdf, lw=2);"
   ]
  },
  {
   "cell_type": "markdown",
   "metadata": {
    "id": "Ncse7cgCnuPb"
   },
   "source": [
    "Распределение не похоже на нормальное. Воспользуемся тестом Колмогорова-Смирнова и проверим гипотезу о нормальности распределения колонки `RT`."
   ]
  },
  {
   "cell_type": "code",
   "execution_count": 51,
   "metadata": {
    "id": "I5GCjLWbnuPc",
    "outputId": "52c0121d-3060-4125-9a20-ab9917959372"
   },
   "outputs": [
    {
     "data": {
      "text/plain": [
       "KstestResult(statistic=0.10581791163988818, pvalue=0.045074232278964566)"
      ]
     },
     "execution_count": 51,
     "metadata": {},
     "output_type": "execute_result"
    }
   ],
   "source": [
    "stats.kstest(x, 'norm', args=(df['RT'].mean(), df['RT'].std(ddof=1)))"
   ]
  },
  {
   "cell_type": "markdown",
   "metadata": {
    "id": "R6pXrbEynuPd"
   },
   "source": [
    "Видим, что `pvalue` очень низкое, это говорит о том, что гипотеза о нормальности выборки отвергается."
   ]
  },
  {
   "cell_type": "markdown",
   "metadata": {
    "id": "0q4aheeYnuPd"
   },
   "source": [
    "> **Вывод:** гипотеза о том, что люди кровожадные отвергается. Гипотезу тестируем с помощью асимптотического критерия, так как наблюдений много, а распределение отличается от нормального."
   ]
  },
  {
   "cell_type": "markdown",
   "metadata": {
    "id": "v9DTjh8HnuPd"
   },
   "source": [
    "## Сравниваем кровожадность (**средние**)\n",
    "\n",
    "Правда ли, что женщины намного кровожаднее мужчин и жмут на кнопку гораздо быстрее?"
   ]
  },
  {
   "cell_type": "code",
   "execution_count": 52,
   "metadata": {
    "id": "AUKZoCg3nuPe",
    "outputId": "178cb99e-308c-43d5-8cc5-8347ce49b6c6"
   },
   "outputs": [],
   "source": [
    "men = df[(df['GENDER'] == 1)]['RT'].dropna().values\n",
    "women = df[(df['GENDER'] == 0)]['RT'].dropna().values"
   ]
  },
  {
   "cell_type": "code",
   "execution_count": 53,
   "metadata": {
    "id": "zF-9R7O7nuPg",
    "outputId": "968735f9-312d-4550-f8ab-661eb7974c88",
    "scrolled": true
   },
   "outputs": [
    {
     "data": {
      "text/plain": [
       "(9.373347263157894, 10.505521238532111)"
      ]
     },
     "execution_count": 53,
     "metadata": {},
     "output_type": "execute_result"
    }
   ],
   "source": [
    "men.mean(), women.mean()"
   ]
  },
  {
   "cell_type": "markdown",
   "metadata": {
    "id": "8fO2eWKpnuPh"
   },
   "source": [
    "$$\n",
    "\\begin{aligned}\n",
    "&H_0: \\hspace{2mm} \\mu_x = \\mu_y \\hspace{2mm} \\text{Cкорость нажатия на кнопку одинаковая} \\\\\n",
    "&H_1: \\hspace{2mm} \\mu_x > \\mu_y  \\hspace{2mm} \\text{Мужчины жмут быстрее}\n",
    "\\end{aligned}\n",
    "$$\n",
    "\n",
    "Выше мы увидели, что в данных нет нормальности. Поэтому используем асимптотический тест. "
   ]
  },
  {
   "cell_type": "markdown",
   "metadata": {
    "id": "DiKXaGMWnuPh"
   },
   "source": [
    "### Асимптотический тест "
   ]
  },
  {
   "cell_type": "markdown",
   "metadata": {},
   "source": [
    "Если предположить, что выборки достаточно велики, в них нет выбросов и они незавсимы, то можно воспользоваться ЦПТ, а также свойствами нормального распределения и получить следующий критерий для тестирования гипотезы:\n",
    "\n",
    "$$\n",
    "z=\\dfrac{\\bar{x}-\\bar{y}}{\\sqrt{\\dfrac{\\hat{\\sigma}_{x}^{2}}{n_x}+\\dfrac{\\hat{\\sigma}_{y}^{2}}{n_y}}} \\sim N(0,1)\n",
    "$$\n"
   ]
  },
  {
   "cell_type": "code",
   "execution_count": 54,
   "metadata": {
    "id": "Fp-xoffLnuPh",
    "outputId": "40e636e2-ffc7-400d-bd03-97af511b2f8e"
   },
   "outputs": [
    {
     "name": "stdout",
     "output_type": "stream",
     "text": [
      "Наблюдаемое значение 1.376 меньше критического 1.64 => нулевая гипотеза не отвергается\n"
     ]
    }
   ],
   "source": [
    "alpha = 0.05                                                    # уровень значимости = 5%\n",
    "nx, ny = women.size, men.size                                   # размер выборок\n",
    "\n",
    "diff = women.mean() - men.mean()                                # разность средних\n",
    "diff_std = np.sqrt(women.var(ddof=1)/nx + men.var(ddof=1)/ny)   # стандартное отклонение\n",
    "\n",
    "z_obs = diff/diff_std                                           # наблюдаемое значение\n",
    "z_crit = stats.norm.ppf(1 - alpha)                              # критическое значение\n",
    "\n",
    "print(f'Наблюдаемое значение {z_obs:.5} меньше критического {z_crit:.3} => нулевая гипотеза не отвергается')"
   ]
  },
  {
   "cell_type": "code",
   "execution_count": 55,
   "metadata": {
    "id": "-KcZ9A9dnuPi",
    "outputId": "d4f39df3-e5e5-4863-c541-f661dfe908c6"
   },
   "outputs": [
    {
     "data": {
      "text/plain": [
       "0.08441634419903932"
      ]
     },
     "execution_count": 55,
     "metadata": {},
     "output_type": "execute_result"
    },
    {
     "data": {
      "image/png": "[encoded data removed]",
      "text/plain": [
       "<Figure size 720x360 with 1 Axes>"
      ]
     },
     "metadata": {},
     "output_type": "display_data"
    }
   ],
   "source": [
    "asy_mean_test(diff, diff_std, mu_0=0, alpha=0.05, alternative='larger')"
   ]
  },
  {
   "cell_type": "markdown",
   "metadata": {
    "id": "r7Tsed63nuPi"
   },
   "source": [
    "Асимптотический тест для разных дисперсий в `statsmodels` не реализован. Есть только для равных.\n",
    "\n",
    "> Приведём ниже код, который мы бы использовали, если бы с нормальностью выборки всё бы было хорошо. "
   ]
  },
  {
   "cell_type": "markdown",
   "metadata": {
    "id": "HLKPUUUGnuPj"
   },
   "source": [
    "### Тест Стьюдента (неизвестные равные дисперсии) "
   ]
  },
  {
   "cell_type": "markdown",
   "metadata": {},
   "source": [
    "Если предположить, что выборки из нормального распределения, они независимы, и у них **одинаковая** дисперсия, то можно воспользоваться теоремой Фишера, а также свойствами нормального распределения и получить следующий критерий для тестирования гипотезы:"
   ]
  },
  {
   "cell_type": "markdown",
   "metadata": {},
   "source": [
    "$$\n",
    "t=\\dfrac{\\bar{x}-\\bar{y} }{\\sqrt{\\dfrac{\\hat{\\sigma}^{2}}{n_x}+\\dfrac{\\hat{\\sigma}^{2}}{n_y}}} \\sim t(n_x+n_y-2)\n",
    "$$\n",
    "\n"
   ]
  },
  {
   "cell_type": "markdown",
   "metadata": {},
   "source": [
    "\n",
    "где $\\hat{\\sigma}^{2}$ - объединенная дисперсия:\n",
    "$$\n",
    "\\hat{\\sigma}^{2}=\\frac{\\left(n_{x}-1\\right) \\hat{\\sigma}_{x}^{2}+\\left(n_{y}-1\\right) \\hat{\\sigma}_{y}^{2}}{n_{x}+n_{y}-2}\n",
    "$$\n"
   ]
  },
  {
   "cell_type": "code",
   "execution_count": 56,
   "metadata": {
    "id": "Dpg0WBKknuPj",
    "outputId": "fcaa02d2-1429-4fbb-b5d9-38268fcbbae5"
   },
   "outputs": [
    {
     "name": "stdout",
     "output_type": "stream",
     "text": [
      "Наблюдаемое значение 1.37 меньше критического 1.65 => нулевая гипотеза не отвергается\n"
     ]
    }
   ],
   "source": [
    "alpha = 0.05                                                    # уровень значимости = 5%\n",
    "nx, ny = women.size, men.size                                   # размер выборок\n",
    "diff = women.mean() - men.mean()                                # разность средних\n",
    "\n",
    "diff_var = ((nx - 1)*women.var(ddof=1) + (ny - 1)*men.var(ddof=1))/(nx + ny - 2)\n",
    "diff_std = np.sqrt(diff_var/nx + diff_var/ny)                   # стандартное отклонение\n",
    "\n",
    "t_obs = diff/diff_std                                           # наблюдаемое значение\n",
    "t_crit = stats.t(df = nx + ny - 2).ppf(1 - alpha)               # критическое значение\n",
    "\n",
    "print(f'Наблюдаемое значение {t_obs:.3} меньше критического {t_crit:.3} => нулевая гипотеза не отвергается')"
   ]
  },
  {
   "cell_type": "markdown",
   "metadata": {
    "id": "KQbyeIvznuPk"
   },
   "source": [
    "То же самое средствами `statsmodels`. "
   ]
  },
  {
   "cell_type": "code",
   "execution_count": 57,
   "metadata": {
    "id": "80eXIDnjnuPk",
    "outputId": "b8c40554-af85-4fdf-bed2-e371e6e3200b"
   },
   "outputs": [
    {
     "name": "stdout",
     "output_type": "stream",
     "text": [
      "Наблюдаемое значение: 1.37\n",
      "P-значение: 0.0868\n"
     ]
    }
   ],
   "source": [
    "from statsmodels.stats.weightstats import ttest_ind\n",
    "\n",
    "t_obs, p_val, _ = ttest_ind(women, men, value=0, alternative='larger')\n",
    "\n",
    "print(f\"Наблюдаемое значение: {t_obs:.3}\") \n",
    "print(f\"P-значение: {p_val:.3}\") "
   ]
  },
  {
   "cell_type": "markdown",
   "metadata": {
    "id": "3PUAkwVHnuPl"
   },
   "source": [
    "### Тест Уэлча (неизвестные разные дисперсии) "
   ]
  },
  {
   "cell_type": "markdown",
   "metadata": {},
   "source": [
    "Если предположить, что выборки из нормального распределения, они независимы, и у них **разная** дисперсия, то можно воспользоваться теоремой Фишера, а также свойствами нормального распределения и получить следующий критерий для тестирования гипотезы:\n",
    "\n",
    "$$\n",
    "t=\\dfrac{\\bar{x}-\\bar{y}}{\\sqrt{\\dfrac{\\hat{s}_{x}^{2}}{n_x}+\\dfrac{\\hat{s}_{y}^{2}}{n_y}}} \\sim t(v)\n",
    "$$\n",
    "\n",
    "\n",
    "где $v$ – примерное число степеней свободы:\n",
    "\n",
    "$$\n",
    "v=\\frac{\\left(\\dfrac{\\hat{s}_{x}^{2}}{n_{x}}+\\dfrac{\\hat{s}_{y}^{2}}{n_{y}}\\right)^{2}}{\\dfrac{\\hat{s}_{x}^{4}}{n_{x}^{2}\\left(n_{x}-1\\right)}+\\dfrac{\\hat{s}_{y}^{4}}{n_{y}^{2}\\left(n_{y}-1\\right)}}\n",
    "$$\n",
    "\n",
    "\n",
    "Этот тест называется тестом Уэлча и является примерном тестом."
   ]
  },
  {
   "cell_type": "code",
   "execution_count": 58,
   "metadata": {
    "id": "naNFCZnOnuPm",
    "outputId": "d40763cf-6aea-4e20-c554-eebc4dddadd3"
   },
   "outputs": [
    {
     "name": "stdout",
     "output_type": "stream",
     "text": [
      "Наблюдаемое значение 1.38 меньше критического 1.66 => нулевая гипотеза не отвергается\n"
     ]
    }
   ],
   "source": [
    "alpha = 0.05                                                    # уровень значимости = 5%\n",
    "nx, ny = women.size, men.size                                   # размер выборок\n",
    "\n",
    "diff = women.mean() - men.mean()                                # разность средних\n",
    "diff_std = np.sqrt(women.var(ddof=1)/nx + men.var(ddof=1)/ny)   # стандартное отклонение\n",
    "\n",
    "t_obs = diff/diff_std                                           # наблюдаемое значение\n",
    "\n",
    "# число степеней свободы\n",
    "u = (women.var(ddof=1) / nx + men.var(ddof=1) / ny) ** 2\n",
    "d = (women.var(ddof=1)**2) / (nx**2 * (nx - 1)) + (men.var(ddof=1)**2)/ (ny**2* (ny - 1))\n",
    "nu =  u/d \n",
    "\n",
    "t_crit = stats.t(nu).ppf(1 - alpha)                             # критическое значение\n",
    "\n",
    "print(f'Наблюдаемое значение {t_obs:.3} меньше критического {t_crit:.3} => нулевая гипотеза не отвергается')"
   ]
  },
  {
   "cell_type": "code",
   "execution_count": 59,
   "metadata": {
    "id": "_qHezMJ8nuPo",
    "outputId": "d522009f-452b-407b-e964-b0ae584f6b1d"
   },
   "outputs": [
    {
     "data": {
      "text/plain": [
       "(5.103972224167936, 4.996830829492463)"
      ]
     },
     "execution_count": 59,
     "metadata": {},
     "output_type": "execute_result"
    }
   ],
   "source": [
    "women.std(ddof=1), men.std(ddof=1)"
   ]
  },
  {
   "cell_type": "code",
   "execution_count": 60,
   "metadata": {
    "id": "gHBrIjG_nuPo",
    "outputId": "8c0ae3e8-aabb-4574-de1b-9f2ae46a2443"
   },
   "outputs": [
    {
     "data": {
      "text/plain": [
       "(109, 57)"
      ]
     },
     "execution_count": 60,
     "metadata": {},
     "output_type": "execute_result"
    }
   ],
   "source": [
    "nx, ny # направление знака между наблюдениями соотвествует знаку между дисперсиями"
   ]
  },
  {
   "cell_type": "markdown",
   "metadata": {
    "id": "AuAjH4XLnuPp"
   },
   "source": [
    "То же самое средствами `statsmodels`. "
   ]
  },
  {
   "cell_type": "code",
   "execution_count": 61,
   "metadata": {
    "id": "r2dtzQOinuPq",
    "outputId": "f2b2058a-35d0-4980-8920-b0c5079a57fd"
   },
   "outputs": [
    {
     "name": "stdout",
     "output_type": "stream",
     "text": [
      "Наблюдаемое значение: 1.38\n",
      "P-значение: 0.0857\n"
     ]
    }
   ],
   "source": [
    "from statsmodels.stats.weightstats import ttest_ind\n",
    "\n",
    "# usevar опционально думает, что дисперсии одинаковые\n",
    "t_obs, p_val, _ = ttest_ind(women, men, value=0, \n",
    "                            alternative='larger', usevar='unequal')\n",
    "\n",
    "print(f\"Наблюдаемое значение: {t_obs:.3}\") \n",
    "print(f\"P-значение: {p_val:.3}\") "
   ]
  },
  {
   "cell_type": "markdown",
   "metadata": {
    "id": "GMCKhuw4nuPr"
   },
   "source": [
    "> **Вывод:** используем асимптотический критерий. Гипотеза о том, что женщины жмут на кнопку с такой же скоростью, как и мужчины не отвергается. Мужчины и женщины одинаково кровожадны."
   ]
  },
  {
   "cell_type": "markdown",
   "metadata": {
    "id": "pToPkFH7nuPr"
   },
   "source": [
    "## Эмпатия (сравниваем **дисперсии**)\n",
    "\n",
    "Перед экспериментом каждый участник проходил психологический тест. Для каждого человека рассчитывалось довольно большое число параметров, описывающих его психотип. Например, в колонках `EC` находится оценка способности человека к эмпатии [(Empathic concern),](https://en.wikipedia.org/wiki/Empathic_concern) в колонке `AE` находится оценка эмпатии человека к животным. \n",
    "\n"
   ]
  },
  {
   "cell_type": "code",
   "execution_count": 62,
   "metadata": {
    "id": "e7Ljgw2hnuPs",
    "outputId": "8c027c29-97b6-4d6b-96a8-d62805c1eaa2"
   },
   "outputs": [
    {
     "data": {
      "image/png": "[encoded data removed]",
      "text/plain": [
       "<Figure size 1080x288 with 2 Axes>"
      ]
     },
     "metadata": {},
     "output_type": "display_data"
    }
   ],
   "source": [
    "df['EC'] = (df['EC'] - df['EC'].min())/(df['EC'].max() - df['EC'].min())\n",
    "df['AE'] = (df['AE'] - df['AE'].min())/(df['AE'].max() - df['AE'].min())\n",
    "\n",
    "df[['EC', 'AE']].hist(bins=15, figsize=(15,4));"
   ]
  },
  {
   "cell_type": "markdown",
   "metadata": {},
   "source": [
    "Правда ли, что дисперсия эмпатии людей на уровне 0.05? \n",
    "\n",
    "\n",
    "$$\n",
    "\\begin{aligned}\n",
    "&H_0: \\hspace{2mm} \\sigma^2 \\leq 0.05    \\hspace{2mm} \\text{Эмпатия меньше 0.05} \\\\\n",
    "&H_1: \\hspace{2mm} \\sigma^2 > 0.05  \\hspace{2mm} \\text{Неоднородность для животных выше}\n",
    "\\end{aligned}\n",
    "$$\n",
    "\n",
    "Распределения нормальные, можем использовать $\\chi^2$-статистику, $\\sigma_0=0.05$\n",
    "\n",
    "$$\n",
    "\\chi^2 = (n-1)\\cdot\\frac{\\hat{\\sigma}^{2}}{\\sigma_0^{2}}\\sim \\chi^2(n-1)\n",
    "$$\n"
   ]
  },
  {
   "cell_type": "code",
   "execution_count": 63,
   "metadata": {},
   "outputs": [],
   "source": [
    "# empatic concern\n",
    "x = df['EC'].dropna().values\n",
    "sigma2_null = 0.05"
   ]
  },
  {
   "cell_type": "code",
   "execution_count": 64,
   "metadata": {},
   "outputs": [
    {
     "name": "stdout",
     "output_type": "stream",
     "text": [
      "Наблюдаемое значение 163.11 меньше критического 224.24 => нулевая гипотеза не отвергается\n"
     ]
    }
   ],
   "source": [
    "alpha = 0.05\n",
    "df_ = x.size-1\n",
    "chi2_obs = df_*x.var(ddof=1)/sigma2_null\n",
    "chi2_crit = stats.chi2(df_).ppf(1-alpha)\n",
    "\n",
    "print(f'Наблюдаемое значение {chi2_obs:.5} меньше критического {chi2_crit:.5} => нулевая гипотеза не отвергается')"
   ]
  },
  {
   "cell_type": "code",
   "execution_count": 65,
   "metadata": {},
   "outputs": [
    {
     "data": {
      "text/plain": [
       "0.9290174726500974"
      ]
     },
     "execution_count": 65,
     "metadata": {},
     "output_type": "execute_result"
    }
   ],
   "source": [
    "# p-value\n",
    "1-stats.chi2(df_).cdf(chi2_obs)"
   ]
  },
  {
   "cell_type": "markdown",
   "metadata": {},
   "source": [
    "## Отношение дисперсий"
   ]
  },
  {
   "cell_type": "markdown",
   "metadata": {
    "id": "szcoxskfnuPs"
   },
   "source": [
    "Правда ли, что неоднородность людей в плане их эмпатии к животным намного выше неоднородности в плане обычной эмпатии? \n",
    "\n",
    "$$\n",
    "\\begin{aligned}\n",
    "&H_0: \\hspace{2mm} \\sigma^2_1 = \\sigma^2_2 \\hspace{2mm} \\text{Неоднородность одинаковая} \\\\\n",
    "&H_1: \\hspace{2mm} \\sigma^2_1 < \\sigma^2_2  \\hspace{2mm} \\text{Неоднородность для животных выше}\n",
    "\\end{aligned}\n",
    "$$\n",
    "\n",
    "Распределения нормальные, можем использовать F-статистику. \n",
    "\n",
    "$$\n",
    "F = \\frac{\\hat{\\sigma}_{x}^{2}}{\\hat{\\sigma}_{y}^{2}}\\sim F\\left(n_{x}-1,\\ n_{y}-1\\right)\n",
    "$$"
   ]
  },
  {
   "cell_type": "code",
   "execution_count": 66,
   "metadata": {
    "id": "9Y_I6CAgnuPt",
    "outputId": "4cb9381b-aba2-4740-a324-ee1d6b460313"
   },
   "outputs": [
    {
     "data": {
      "text/plain": [
       "(0.6190814394131477, 0.5798980496933709)"
      ]
     },
     "execution_count": 66,
     "metadata": {},
     "output_type": "execute_result"
    }
   ],
   "source": [
    "ec = df['EC'].dropna().values\n",
    "ae = df['AE'].dropna().values\n",
    "\n",
    "ec.mean(), ae.mean()"
   ]
  },
  {
   "cell_type": "code",
   "execution_count": 67,
   "metadata": {
    "id": "xf5zjsxFnuPt",
    "outputId": "7e07c121-12c3-4b2d-be77-e058f80f4aff"
   },
   "outputs": [
    {
     "data": {
      "text/plain": [
       "(0.04247637731538298, 0.032046916944347074)"
      ]
     },
     "execution_count": 67,
     "metadata": {},
     "output_type": "execute_result"
    }
   ],
   "source": [
    "ec.var(), ae.var()"
   ]
  },
  {
   "cell_type": "code",
   "execution_count": 68,
   "metadata": {
    "id": "9I-Lk1D7nuPt",
    "outputId": "c48b5401-77a2-4bad-b796-09d0522e6e84"
   },
   "outputs": [
    {
     "name": "stdout",
     "output_type": "stream",
     "text": [
      "Наблюдаемое значение 1.3254 меньше критического 1.3291 => нулевая гипотеза не отвергается\n"
     ]
    }
   ],
   "source": [
    "alpha = 0.05                             # уровень значимости = 5%\n",
    "nx, ny = ec.size, ae.size                # размер выборок\n",
    "\n",
    "F_obs = ec.var()/ae.var()                # наблюдаемое значение\n",
    "\n",
    "f_rv = stats.f(nx - 1, ny - 1) \n",
    "F_crit = f_rv.ppf(1 - alpha/2)           # критическое значение\n",
    "\n",
    "print(f'Наблюдаемое значение {F_obs:.5} меньше критического {F_crit:.5} => нулевая гипотеза не отвергается')"
   ]
  },
  {
   "cell_type": "code",
   "execution_count": 69,
   "metadata": {},
   "outputs": [
    {
     "data": {
      "text/plain": [
       "0.052237956798086405"
      ]
     },
     "execution_count": 69,
     "metadata": {},
     "output_type": "execute_result"
    }
   ],
   "source": [
    "2*(1-f_rv.cdf(F_obs))"
   ]
  },
  {
   "cell_type": "markdown",
   "metadata": {
    "id": "VyHoquGxnuPt"
   },
   "source": [
    "> Гипотеза о равенстве дисперсий не отвергается, однако она оказывается малозначима."
   ]
  },
  {
   "cell_type": "markdown",
   "metadata": {
    "id": "krhSzypznuPt"
   },
   "source": [
    "  "
   ]
  },
  {
   "cell_type": "markdown",
   "metadata": {
    "id": "TPfYhxXXnuPu"
   },
   "source": [
    " "
   ]
  },
  {
   "cell_type": "markdown",
   "metadata": {
    "id": "advP4QuRnvNj"
   },
   "source": [
    "#  Зависимые выборки \n",
    "\n",
    "В случае, когда выборки зависимы, мы должны использовать для проверки гипотез критерии, которые это учитывают."
   ]
  },
  {
   "cell_type": "markdown",
   "metadata": {
    "id": "GwGN23EAnvNn"
   },
   "source": [
    "## Реклама (таблица сопряженности)\n",
    "\n",
    "**Задача**\n",
    "\n",
    "Фокус-группу из потенциальных покупателей спрашивают, купят ли они товар. После им показывают 30 секундный видео-ролик, в котором объясняется как этот товар поменяет их жизнь. Каждого из них снова спрашивают, купит ли он товар. Нужно проверить гипотезу о том, что ролик повлиял на мнение людей. \n",
    "\n",
    "В таблице ниже в столбик записаны результаты первого опроса, в строчку результаты второго. "
   ]
  },
  {
   "cell_type": "code",
   "execution_count": 70,
   "metadata": {
    "id": "AJ0s6cHwnvNp",
    "outputId": "51c4a634-ac61-4648-cb6b-4169fa045d88"
   },
   "outputs": [
    {
     "data": {
      "text/html": [
       "<div>\n",
       "<style scoped>\n",
       "    .dataframe tbody tr th:only-of-type {\n",
       "        vertical-align: middle;\n",
       "    }\n",
       "\n",
       "    .dataframe tbody tr th {\n",
       "        vertical-align: top;\n",
       "    }\n",
       "\n",
       "    .dataframe thead th {\n",
       "        text-align: right;\n",
       "    }\n",
       "</style>\n",
       "<table border=\"1\" class=\"dataframe\">\n",
       "  <thead>\n",
       "    <tr style=\"text-align: right;\">\n",
       "      <th></th>\n",
       "      <th>yes</th>\n",
       "      <th>no</th>\n",
       "    </tr>\n",
       "  </thead>\n",
       "  <tbody>\n",
       "    <tr>\n",
       "      <th>yes</th>\n",
       "      <td>30</td>\n",
       "      <td>15</td>\n",
       "    </tr>\n",
       "    <tr>\n",
       "      <th>no</th>\n",
       "      <td>9</td>\n",
       "      <td>51</td>\n",
       "    </tr>\n",
       "  </tbody>\n",
       "</table>\n",
       "</div>"
      ],
      "text/plain": [
       "     yes  no\n",
       "yes   30  15\n",
       "no     9  51"
      ]
     },
     "execution_count": 70,
     "metadata": {},
     "output_type": "execute_result"
    }
   ],
   "source": [
    "df = pd.DataFrame([[30, 15], [9,51]])\n",
    "df.columns = ['yes', 'no']\n",
    "df.index = ['yes', 'no']\n",
    "df"
   ]
  },
  {
   "cell_type": "code",
   "execution_count": 71,
   "metadata": {
    "id": "6fuWQOoPnvNt",
    "outputId": "17d5aa25-504d-471d-8a9b-f8c3b68ce24b"
   },
   "outputs": [
    {
     "data": {
      "text/html": [
       "<div>\n",
       "<style scoped>\n",
       "    .dataframe tbody tr th:only-of-type {\n",
       "        vertical-align: middle;\n",
       "    }\n",
       "\n",
       "    .dataframe tbody tr th {\n",
       "        vertical-align: top;\n",
       "    }\n",
       "\n",
       "    .dataframe thead th {\n",
       "        text-align: right;\n",
       "    }\n",
       "</style>\n",
       "<table border=\"1\" class=\"dataframe\">\n",
       "  <thead>\n",
       "    <tr style=\"text-align: right;\">\n",
       "      <th></th>\n",
       "      <th>yes</th>\n",
       "      <th>no</th>\n",
       "    </tr>\n",
       "  </thead>\n",
       "  <tbody>\n",
       "    <tr>\n",
       "      <th>yes</th>\n",
       "      <td>a</td>\n",
       "      <td>b</td>\n",
       "    </tr>\n",
       "    <tr>\n",
       "      <th>no</th>\n",
       "      <td>c</td>\n",
       "      <td>d</td>\n",
       "    </tr>\n",
       "  </tbody>\n",
       "</table>\n",
       "</div>"
      ],
      "text/plain": [
       "    yes no\n",
       "yes   a  b\n",
       "no    c  d"
      ]
     },
     "execution_count": 71,
     "metadata": {},
     "output_type": "execute_result"
    }
   ],
   "source": [
    "df2 = pd.DataFrame([['a', 'b'], ['c', 'd']])\n",
    "df2.columns = ['yes', 'no']\n",
    "df2.index = ['yes', 'no']\n",
    "df2"
   ]
  },
  {
   "cell_type": "markdown",
   "metadata": {
    "id": "4mhdBYDTnvNu"
   },
   "source": [
    "__Гипотеза:__ \n",
    "\n",
    "$$\n",
    "\\begin{aligned}\n",
    "&H_0: \\hspace{2mm} p_1 = p_2 \\hspace{2mm} \\text{Ролик никак не повиял на готовность купить товар} \\\\\n",
    "&H_1: \\hspace{2mm} p_1 \\ne p_2  \\hspace{2mm} \\text{Есть различия}\n",
    "\\end{aligned}\n",
    "$$\n",
    "\n",
    "__Критерий:__\n",
    "\n",
    "$$\n",
    "z = \\frac{c - b}{\\sqrt{c + b - \\frac{(c-b)^2}{n}}}\n",
    "$$"
   ]
  },
  {
   "cell_type": "code",
   "execution_count": 72,
   "metadata": {
    "id": "f1MQc79dnvNv"
   },
   "outputs": [],
   "source": [
    "def proportions_diff_z_stat_rel(df):\n",
    "    n = df.sum().sum()\n",
    "    c = df.loc['no','yes']\n",
    "    b = df.loc['yes','no']\n",
    "    return (c - b) / np.sqrt(c + b - (c - b)**2 / n )"
   ]
  },
  {
   "cell_type": "code",
   "execution_count": 73,
   "metadata": {
    "id": "-j2moeUMnvNw",
    "outputId": "e534c0db-28be-4432-9536-ac39f11a6547"
   },
   "outputs": [
    {
     "data": {
      "text/plain": [
       "-1.2335879094879223"
      ]
     },
     "execution_count": 73,
     "metadata": {},
     "output_type": "execute_result"
    }
   ],
   "source": [
    "z_obs = proportions_diff_z_stat_rel(df)\n",
    "z_obs"
   ]
  },
  {
   "cell_type": "code",
   "execution_count": 74,
   "metadata": {
    "id": "d_sdmhvNnvNx",
    "outputId": "8924cbee-9205-4ba7-fbe2-cd1e9c580e5e"
   },
   "outputs": [
    {
     "name": "stdout",
     "output_type": "stream",
     "text": [
      "Наблюдаемое значение -1.23 больше критического -1.96 => нулевая гипотеза не отвергается\n"
     ]
    }
   ],
   "source": [
    "alpha = 0.05 \n",
    "z_crit = stats.norm.ppf(alpha/2)   # критическое значение статистики\n",
    "\n",
    "print(f'Наблюдаемое значение {z_obs:.3} больше критического {z_crit:.3} => нулевая гипотеза не отвергается')"
   ]
  },
  {
   "cell_type": "markdown",
   "metadata": {
    "id": "ekLdtExanvN0"
   },
   "source": [
    "## Контрольная работа (измерения на одних и тех же объектах)\n",
    "\n",
    "В файле `cr.csv` лежат результаты контрольной работы. По мнению студентов эти оценки смещённые, несостоятельные и ужасно неэффективные. Но это уже совершенно другая история. Подгрузим файлик и посмотрим на него!  \n",
    "\n",
    "__Описание колонок:__\n",
    "* `k1` - результат за первую контрольную\n",
    "* `k2` - результат за вторую контрольную\n",
    "* `k3` - результат за третью контрольную"
   ]
  },
  {
   "cell_type": "code",
   "execution_count": 75,
   "metadata": {
    "id": "1mN1zzePnvN1",
    "outputId": "cae1db79-0a0c-441b-f2cb-f072c453dcd5"
   },
   "outputs": [
    {
     "data": {
      "text/html": [
       "<div>\n",
       "<style scoped>\n",
       "    .dataframe tbody tr th:only-of-type {\n",
       "        vertical-align: middle;\n",
       "    }\n",
       "\n",
       "    .dataframe tbody tr th {\n",
       "        vertical-align: top;\n",
       "    }\n",
       "\n",
       "    .dataframe thead th {\n",
       "        text-align: right;\n",
       "    }\n",
       "</style>\n",
       "<table border=\"1\" class=\"dataframe\">\n",
       "  <thead>\n",
       "    <tr style=\"text-align: right;\">\n",
       "      <th></th>\n",
       "      <th>k1</th>\n",
       "      <th>k2</th>\n",
       "      <th>k3</th>\n",
       "    </tr>\n",
       "  </thead>\n",
       "  <tbody>\n",
       "    <tr>\n",
       "      <th>0</th>\n",
       "      <td>10.1</td>\n",
       "      <td>11.0</td>\n",
       "      <td>6.2</td>\n",
       "    </tr>\n",
       "    <tr>\n",
       "      <th>1</th>\n",
       "      <td>6.7</td>\n",
       "      <td>6.5</td>\n",
       "      <td>8.6</td>\n",
       "    </tr>\n",
       "    <tr>\n",
       "      <th>2</th>\n",
       "      <td>8.2</td>\n",
       "      <td>8.5</td>\n",
       "      <td>3.0</td>\n",
       "    </tr>\n",
       "    <tr>\n",
       "      <th>3</th>\n",
       "      <td>7.0</td>\n",
       "      <td>9.0</td>\n",
       "      <td>6.8</td>\n",
       "    </tr>\n",
       "    <tr>\n",
       "      <th>4</th>\n",
       "      <td>7.0</td>\n",
       "      <td>9.0</td>\n",
       "      <td>0.0</td>\n",
       "    </tr>\n",
       "  </tbody>\n",
       "</table>\n",
       "</div>"
      ],
      "text/plain": [
       "     k1    k2   k3\n",
       "0  10.1  11.0  6.2\n",
       "1   6.7   6.5  8.6\n",
       "2   8.2   8.5  3.0\n",
       "3   7.0   9.0  6.8\n",
       "4   7.0   9.0  0.0"
      ]
     },
     "execution_count": 75,
     "metadata": {},
     "output_type": "execute_result"
    }
   ],
   "source": [
    "df = pd.read_csv('../data/cw.csv')\n",
    "df = df.dropna()\n",
    "df.head()"
   ]
  },
  {
   "cell_type": "markdown",
   "metadata": {
    "id": "qtHut5U4nvN4"
   },
   "source": [
    "Правда ли, что в среднем их успеваемость не изменилась?\n",
    "\n",
    "Рассмотрим изменение успеваемости между первой и второй контрольной\n",
    "\n",
    "$$d_{i\\ }=x_{i}-y_{i}$$\n",
    "\n",
    "Дисперсию изменения оценим по формуле\n",
    "\n",
    "$$\n",
    "s^{2}=\\frac{1}{n-1} \\sum_{i=1}^{n}\\left(d_{i}-\\bar{d}\\right)^{2}\n",
    "$$\n",
    "\n",
    "Для тестирования гипотезы об отсутствии изменения воспользуемся $t$-тестом\n",
    "\n",
    "$$\n",
    "\\begin{aligned}\n",
    "&H_0: \\hspace{2mm} \\mu_1-\\mu_2 = 0 \\hspace{2mm} \\text{оценка за КР не изменилась} \\\\\n",
    "&H_1: \\hspace{2mm}\\mu_1-\\mu_2  \\ne 0 \\hspace{2mm} \\text{есть различия}\n",
    "\\end{aligned}\n",
    "$$\n",
    "\n",
    "Необходимый критерий:\n",
    "\n",
    "$$\n",
    "t\\ =\\ \\dfrac{\\bar{d}-0}{\\sqrt{\\dfrac{s^{2}}{n}}}\\sim t\\left(n-1\\right)\n",
    "$$"
   ]
  },
  {
   "cell_type": "code",
   "execution_count": 76,
   "metadata": {
    "id": "comAJD8KnvN7",
    "outputId": "1954491d-16c3-4f6c-fa03-211bcb8ad119"
   },
   "outputs": [
    {
     "data": {
      "text/plain": [
       "388"
      ]
     },
     "execution_count": 76,
     "metadata": {},
     "output_type": "execute_result"
    }
   ],
   "source": [
    "d = df['k2'] - df['k1']\n",
    "d.size"
   ]
  },
  {
   "cell_type": "code",
   "execution_count": 77,
   "metadata": {
    "id": "vsGpv8_AnvN9",
    "outputId": "5a150a09-1c7b-4507-aaa7-31f20a20c2b4"
   },
   "outputs": [
    {
     "data": {
      "image/png": "[encoded data removed]",
      "text/plain": [
       "<Figure size 432x288 with 1 Axes>"
      ]
     },
     "metadata": {},
     "output_type": "display_data"
    }
   ],
   "source": [
    "d_mean = d.mean()\n",
    "d_std = d.std(ddof=1)\n",
    "\n",
    "plt.hist(d, bins=20, density=True)\n",
    "\n",
    "xs = np.linspace(-12, 12, 300)\n",
    "ys = stats.norm(loc=d_mean, scale=d_std).pdf(xs)\n",
    "plt.plot(xs, ys, color=\"black\");"
   ]
  },
  {
   "cell_type": "markdown",
   "metadata": {
    "id": "N5J7FbEqnvN_"
   },
   "source": [
    "Распределение разности оценок похоже на нормальное. Можем использовать тест Стьюдента."
   ]
  },
  {
   "cell_type": "code",
   "execution_count": 78,
   "metadata": {},
   "outputs": [
    {
     "data": {
      "text/plain": [
       "(-5.6790774747774755, 2.6632591687558715e-08)"
      ]
     },
     "execution_count": 78,
     "metadata": {},
     "output_type": "execute_result"
    }
   ],
   "source": [
    "# статистика и p-value своими руками\n",
    "t_obs = d.mean()/np.sqrt(d.var(ddof=1)/d.size)\n",
    "p_val = 2*(1-stats.t.cdf(np.abs(t_obs), d.size-1))\n",
    "\n",
    "t_obs, p_val"
   ]
  },
  {
   "cell_type": "code",
   "execution_count": 79,
   "metadata": {
    "id": "LlOeeyg9nvOA",
    "outputId": "2c66126e-173c-4b9b-943c-d79cc6dd0646"
   },
   "outputs": [
    {
     "data": {
      "text/plain": [
       "Ttest_1sampResult(statistic=-5.6790774747774755, pvalue=2.6632591550359244e-08)"
      ]
     },
     "execution_count": 79,
     "metadata": {},
     "output_type": "execute_result"
    }
   ],
   "source": [
    "# Тест для разностей\n",
    "stats.ttest_1samp(d, 0)"
   ]
  },
  {
   "cell_type": "code",
   "execution_count": 80,
   "metadata": {
    "id": "44kLnqbOnvOB",
    "outputId": "fe24af26-ca1c-4f48-db45-9cb7d8ff5bb0"
   },
   "outputs": [
    {
     "data": {
      "text/plain": [
       "Ttest_relResult(statistic=-5.6790774747774755, pvalue=2.6632591550359244e-08)"
      ]
     },
     "execution_count": 80,
     "metadata": {},
     "output_type": "execute_result"
    }
   ],
   "source": [
    "# тест для зависимых выборок \n",
    "x = df['k2']\n",
    "y = df['k1']\n",
    "\n",
    "stats.ttest_rel(x, y)"
   ]
  },
  {
   "cell_type": "code",
   "execution_count": 81,
   "metadata": {},
   "outputs": [
    {
     "data": {
      "text/plain": [
       "-1.0845360824742267"
      ]
     },
     "execution_count": 81,
     "metadata": {},
     "output_type": "execute_result"
    }
   ],
   "source": [
    "d.mean()"
   ]
  },
  {
   "cell_type": "markdown",
   "metadata": {
    "id": "ttWS3oPFnvOD"
   },
   "source": [
    "Гипотеза о том, что успеваемость студентов не изменилась, отвергается. "
   ]
  },
  {
   "cell_type": "markdown",
   "metadata": {
    "id": "1IilAJnRnvOF"
   },
   "source": [
    " "
   ]
  },
  {
   "cell_type": "markdown",
   "metadata": {},
   "source": [
    "# Корреляция Пирсона"
   ]
  },
  {
   "cell_type": "markdown",
   "metadata": {},
   "source": [
    "Корреляционный анализ используется для анализа взаимосвязи двух непрерывных переменных. \n",
    "\n",
    "Коэффициент корреляции Пирсона характеризует тесноту и направленность **линейной** связи между двумя переменными и принимает значение от −1 до 1.\n",
    "\n",
    "$$\n",
    "r_{x, y}=\\frac{\\sum_{i=1}^{n}\\left(x_{i}-\\bar{x}\\right)\\left(y_{i}-\\bar{y}\\right)}{\\sqrt{\\sum_{i=1}^{n}\\left(x_{i}-\\bar{x}\\right)^{2}} \\sqrt{\\sum_{i=1}^{n}\\left(y_{i}-\\bar{y}\\right)^{2}}}\n",
    "$$\n",
    "\n",
    "Можно также встретить такие формулы:\n",
    "\n",
    "1) Если применить оператор суммирования\n",
    "$$\n",
    "r_{x y}=\\frac{\\sum_{i} x_{i} y_{i}-n \\bar{x} \\bar{y}}{\\sqrt{\\sum_{i} x_{i}^{2}-n \\bar{x}^{2}} \\sqrt{\\sum_{i} y_{i}^{2}-n \\bar{y}^{2}}}\n",
    "$$\n",
    "\n",
    "2) Если рассмотреть стандартизоварованные оценки (Z-оценки)\n",
    "$$\n",
    "r_{x y}=\\frac{1}{n-1} \\sum_{i=1}^{n}\\left(\\frac{x_{i}-\\bar{x}}{s_{x}}\\right)\\left(\\frac{y_{i}-\\bar{y}}{s_{y}}\\right)\n",
    "$$\n"
   ]
  },
  {
   "cell_type": "code",
   "execution_count": 82,
   "metadata": {},
   "outputs": [
    {
     "data": {
      "text/html": [
       "<div>\n",
       "<style scoped>\n",
       "    .dataframe tbody tr th:only-of-type {\n",
       "        vertical-align: middle;\n",
       "    }\n",
       "\n",
       "    .dataframe tbody tr th {\n",
       "        vertical-align: top;\n",
       "    }\n",
       "\n",
       "    .dataframe thead th {\n",
       "        text-align: right;\n",
       "    }\n",
       "</style>\n",
       "<table border=\"1\" class=\"dataframe\">\n",
       "  <thead>\n",
       "    <tr style=\"text-align: right;\">\n",
       "      <th></th>\n",
       "      <th>STUDY</th>\n",
       "      <th>AGE</th>\n",
       "      <th>GENDER</th>\n",
       "      <th>DECISION</th>\n",
       "      <th>DEO1</th>\n",
       "      <th>DEO2</th>\n",
       "      <th>DEO3</th>\n",
       "      <th>DEO4</th>\n",
       "      <th>DEO5</th>\n",
       "      <th>DEO6</th>\n",
       "      <th>...</th>\n",
       "      <th>AE</th>\n",
       "      <th>MOUSE1</th>\n",
       "      <th>MOUSE2</th>\n",
       "      <th>MOUSE3</th>\n",
       "      <th>MOUSE</th>\n",
       "      <th>DOUBT</th>\n",
       "      <th>OTHERCHOICE</th>\n",
       "      <th>UNCOMFORTABLE</th>\n",
       "      <th>NOSHOCK</th>\n",
       "      <th>RT</th>\n",
       "    </tr>\n",
       "  </thead>\n",
       "  <tbody>\n",
       "    <tr>\n",
       "      <th>0</th>\n",
       "      <td>1</td>\n",
       "      <td>38</td>\n",
       "      <td>1</td>\n",
       "      <td>NaN</td>\n",
       "      <td>2</td>\n",
       "      <td>2</td>\n",
       "      <td>2</td>\n",
       "      <td>1</td>\n",
       "      <td>2</td>\n",
       "      <td>2</td>\n",
       "      <td>...</td>\n",
       "      <td>5.000000</td>\n",
       "      <td>6.0</td>\n",
       "      <td>5.0</td>\n",
       "      <td>5.0</td>\n",
       "      <td>5.333333</td>\n",
       "      <td>NaN</td>\n",
       "      <td>NaN</td>\n",
       "      <td>NaN</td>\n",
       "      <td>NaN</td>\n",
       "      <td>NaN</td>\n",
       "    </tr>\n",
       "    <tr>\n",
       "      <th>1</th>\n",
       "      <td>1</td>\n",
       "      <td>22</td>\n",
       "      <td>1</td>\n",
       "      <td>NaN</td>\n",
       "      <td>1</td>\n",
       "      <td>2</td>\n",
       "      <td>2</td>\n",
       "      <td>1</td>\n",
       "      <td>2</td>\n",
       "      <td>1</td>\n",
       "      <td>...</td>\n",
       "      <td>5.727273</td>\n",
       "      <td>5.0</td>\n",
       "      <td>6.0</td>\n",
       "      <td>6.0</td>\n",
       "      <td>5.666667</td>\n",
       "      <td>NaN</td>\n",
       "      <td>NaN</td>\n",
       "      <td>NaN</td>\n",
       "      <td>NaN</td>\n",
       "      <td>NaN</td>\n",
       "    </tr>\n",
       "    <tr>\n",
       "      <th>2</th>\n",
       "      <td>1</td>\n",
       "      <td>39</td>\n",
       "      <td>1</td>\n",
       "      <td>NaN</td>\n",
       "      <td>1</td>\n",
       "      <td>1</td>\n",
       "      <td>3</td>\n",
       "      <td>5</td>\n",
       "      <td>3</td>\n",
       "      <td>1</td>\n",
       "      <td>...</td>\n",
       "      <td>5.545455</td>\n",
       "      <td>6.0</td>\n",
       "      <td>6.0</td>\n",
       "      <td>6.0</td>\n",
       "      <td>6.000000</td>\n",
       "      <td>NaN</td>\n",
       "      <td>NaN</td>\n",
       "      <td>NaN</td>\n",
       "      <td>NaN</td>\n",
       "      <td>NaN</td>\n",
       "    </tr>\n",
       "    <tr>\n",
       "      <th>3</th>\n",
       "      <td>1</td>\n",
       "      <td>21</td>\n",
       "      <td>0</td>\n",
       "      <td>1.0</td>\n",
       "      <td>2</td>\n",
       "      <td>3</td>\n",
       "      <td>3</td>\n",
       "      <td>3</td>\n",
       "      <td>3</td>\n",
       "      <td>2</td>\n",
       "      <td>...</td>\n",
       "      <td>5.136364</td>\n",
       "      <td>4.0</td>\n",
       "      <td>7.0</td>\n",
       "      <td>7.0</td>\n",
       "      <td>6.000000</td>\n",
       "      <td>2.0</td>\n",
       "      <td>0.0</td>\n",
       "      <td>6.0</td>\n",
       "      <td>80.0</td>\n",
       "      <td>9.212427</td>\n",
       "    </tr>\n",
       "    <tr>\n",
       "      <th>4</th>\n",
       "      <td>1</td>\n",
       "      <td>20</td>\n",
       "      <td>0</td>\n",
       "      <td>1.0</td>\n",
       "      <td>4</td>\n",
       "      <td>2</td>\n",
       "      <td>2</td>\n",
       "      <td>2</td>\n",
       "      <td>2</td>\n",
       "      <td>2</td>\n",
       "      <td>...</td>\n",
       "      <td>4.181818</td>\n",
       "      <td>4.0</td>\n",
       "      <td>6.0</td>\n",
       "      <td>6.0</td>\n",
       "      <td>5.333333</td>\n",
       "      <td>4.0</td>\n",
       "      <td>0.0</td>\n",
       "      <td>6.5</td>\n",
       "      <td>75.0</td>\n",
       "      <td>17.071711</td>\n",
       "    </tr>\n",
       "  </tbody>\n",
       "</table>\n",
       "<p>5 rows × 132 columns</p>\n",
       "</div>"
      ],
      "text/plain": [
       "   STUDY  AGE  GENDER  DECISION  DEO1  DEO2  DEO3  DEO4  DEO5  DEO6  ...  \\\n",
       "0      1   38       1       NaN     2     2     2     1     2     2  ...   \n",
       "1      1   22       1       NaN     1     2     2     1     2     1  ...   \n",
       "2      1   39       1       NaN     1     1     3     5     3     1  ...   \n",
       "3      1   21       0       1.0     2     3     3     3     3     2  ...   \n",
       "4      1   20       0       1.0     4     2     2     2     2     2  ...   \n",
       "\n",
       "         AE  MOUSE1  MOUSE2  MOUSE3     MOUSE  DOUBT  OTHERCHOICE  \\\n",
       "0  5.000000     6.0     5.0     5.0  5.333333    NaN          NaN   \n",
       "1  5.727273     5.0     6.0     6.0  5.666667    NaN          NaN   \n",
       "2  5.545455     6.0     6.0     6.0  6.000000    NaN          NaN   \n",
       "3  5.136364     4.0     7.0     7.0  6.000000    2.0          0.0   \n",
       "4  4.181818     4.0     6.0     6.0  5.333333    4.0          0.0   \n",
       "\n",
       "   UNCOMFORTABLE  NOSHOCK         RT  \n",
       "0            NaN      NaN        NaN  \n",
       "1            NaN      NaN        NaN  \n",
       "2            NaN      NaN        NaN  \n",
       "3            6.0     80.0   9.212427  \n",
       "4            6.5     75.0  17.071711  \n",
       "\n",
       "[5 rows x 132 columns]"
      ]
     },
     "execution_count": 82,
     "metadata": {},
     "output_type": "execute_result"
    }
   ],
   "source": [
    "# посмотрим еще раз на датасет с экспериментом о мышах\n",
    "df = pd.read_csv(\"../data/mouse.csv\", sep=\"\\t\")\n",
    "df.head()"
   ]
  },
  {
   "cell_type": "markdown",
   "metadata": {},
   "source": [
    "В нем достаточно много различных характеристик. Больше информации [тут](https://osf.io/3ufk9/)\n",
    "\n",
    "**Описание переменных**\n",
    "\n",
    "``STUDY: Study 1 (Real life Dilemma) or Study 2 (Hypothetical)\n",
    "AGE: Age of the participants\n",
    "GENDER: Gender of the participants (0 = Female, 1 = Male)\n",
    "DECISION: Decision on the Mouse dilemma (0 = Deont., 1 = Cons.)\n",
    "DEO1-10: Subjects ratings of appropriateness for the deontological option on dilemma 1 – 10\n",
    "DEO: Average of DEO 1-10\n",
    "CON1-10: Subjects ratings of appropriateness for the consequentialist option on dilemma 1 – 10\n",
    "CON: Average of CON 1-10\n",
    "NFC1-18: Subjects ratings on the Need for Cognition items\n",
    "NFC: Subjects NFC score\n",
    "EC1-7: Subjects ratings on the Empathic Concern items\n",
    "EC: Subjects EC score\n",
    "PT1-7: Subjects ratings on the Perspective Taking items\n",
    "PT: Subjects PT score\n",
    "PP1-16: Subjects ratings on the Primary Psychopathy items\n",
    "PP: Subjects PP score\n",
    "MID1-10: Subjects ratings on the Moral Identity items\n",
    "I1-5: Subjects ratings on the Internalization subscale of Moral Identity\n",
    "I: Subjects Internalization score\n",
    "S1-5: Subjects ratings on the Symbolization subscale of Moral Idenity\n",
    "S: Subjects Symbolization score\n",
    "AE1-22: Subjects ratings on the Animal Empathy items\n",
    "AE: Subjects Animal Empathy score\n",
    "MOUSE1-3: Subjects ratings on the Empathy for Mice items\n",
    "MOUSE: Subjects Empathy for Mice score\n",
    "DOUBT: Subjects self-reported doubt for “Decision”\n",
    "UNCOMFORTABLE: Subjects self-reported uncomfortableness with “Decision”\n",
    "NOSHOCK: The extent to which subjects were certain no shocks would be given(self-reported)\n",
    "RT: Subjects reaction time if they made a consequentialist decision\n",
    "``"
   ]
  },
  {
   "cell_type": "code",
   "execution_count": 83,
   "metadata": {},
   "outputs": [
    {
     "data": {
      "text/html": [
       "<div>\n",
       "<style scoped>\n",
       "    .dataframe tbody tr th:only-of-type {\n",
       "        vertical-align: middle;\n",
       "    }\n",
       "\n",
       "    .dataframe tbody tr th {\n",
       "        vertical-align: top;\n",
       "    }\n",
       "\n",
       "    .dataframe thead th {\n",
       "        text-align: right;\n",
       "    }\n",
       "</style>\n",
       "<table border=\"1\" class=\"dataframe\">\n",
       "  <thead>\n",
       "    <tr style=\"text-align: right;\">\n",
       "      <th></th>\n",
       "      <th>CON</th>\n",
       "      <th>DEO</th>\n",
       "      <th>NFC</th>\n",
       "      <th>EC</th>\n",
       "      <th>PT</th>\n",
       "      <th>PP</th>\n",
       "      <th>I</th>\n",
       "      <th>S</th>\n",
       "      <th>AE</th>\n",
       "      <th>MOUSE</th>\n",
       "    </tr>\n",
       "  </thead>\n",
       "  <tbody>\n",
       "    <tr>\n",
       "      <th>CON</th>\n",
       "      <td>1.000000</td>\n",
       "      <td>-0.130800</td>\n",
       "      <td>0.227270</td>\n",
       "      <td>-0.139969</td>\n",
       "      <td>0.032274</td>\n",
       "      <td>0.239326</td>\n",
       "      <td>-0.126171</td>\n",
       "      <td>0.056511</td>\n",
       "      <td>-0.026570</td>\n",
       "      <td>-0.137355</td>\n",
       "    </tr>\n",
       "    <tr>\n",
       "      <th>DEO</th>\n",
       "      <td>-0.130800</td>\n",
       "      <td>1.000000</td>\n",
       "      <td>-0.041706</td>\n",
       "      <td>-0.115465</td>\n",
       "      <td>-0.079523</td>\n",
       "      <td>0.033845</td>\n",
       "      <td>0.039485</td>\n",
       "      <td>0.091804</td>\n",
       "      <td>-0.073920</td>\n",
       "      <td>-0.049242</td>\n",
       "    </tr>\n",
       "    <tr>\n",
       "      <th>NFC</th>\n",
       "      <td>0.227270</td>\n",
       "      <td>-0.041706</td>\n",
       "      <td>1.000000</td>\n",
       "      <td>0.055408</td>\n",
       "      <td>0.292804</td>\n",
       "      <td>-0.069836</td>\n",
       "      <td>0.097187</td>\n",
       "      <td>0.076282</td>\n",
       "      <td>0.089483</td>\n",
       "      <td>0.037231</td>\n",
       "    </tr>\n",
       "    <tr>\n",
       "      <th>EC</th>\n",
       "      <td>-0.139969</td>\n",
       "      <td>-0.115465</td>\n",
       "      <td>0.055408</td>\n",
       "      <td>1.000000</td>\n",
       "      <td>0.502733</td>\n",
       "      <td>-0.570740</td>\n",
       "      <td>0.523312</td>\n",
       "      <td>0.133641</td>\n",
       "      <td>0.413765</td>\n",
       "      <td>0.366515</td>\n",
       "    </tr>\n",
       "    <tr>\n",
       "      <th>PT</th>\n",
       "      <td>0.032274</td>\n",
       "      <td>-0.079523</td>\n",
       "      <td>0.292804</td>\n",
       "      <td>0.502733</td>\n",
       "      <td>1.000000</td>\n",
       "      <td>-0.334871</td>\n",
       "      <td>0.322932</td>\n",
       "      <td>0.039610</td>\n",
       "      <td>0.269056</td>\n",
       "      <td>0.214524</td>\n",
       "    </tr>\n",
       "    <tr>\n",
       "      <th>PP</th>\n",
       "      <td>0.239326</td>\n",
       "      <td>0.033845</td>\n",
       "      <td>-0.069836</td>\n",
       "      <td>-0.570740</td>\n",
       "      <td>-0.334871</td>\n",
       "      <td>1.000000</td>\n",
       "      <td>-0.473980</td>\n",
       "      <td>-0.083251</td>\n",
       "      <td>-0.398124</td>\n",
       "      <td>-0.310578</td>\n",
       "    </tr>\n",
       "    <tr>\n",
       "      <th>I</th>\n",
       "      <td>-0.126171</td>\n",
       "      <td>0.039485</td>\n",
       "      <td>0.097187</td>\n",
       "      <td>0.523312</td>\n",
       "      <td>0.322932</td>\n",
       "      <td>-0.473980</td>\n",
       "      <td>1.000000</td>\n",
       "      <td>0.172633</td>\n",
       "      <td>0.349256</td>\n",
       "      <td>0.278242</td>\n",
       "    </tr>\n",
       "    <tr>\n",
       "      <th>S</th>\n",
       "      <td>0.056511</td>\n",
       "      <td>0.091804</td>\n",
       "      <td>0.076282</td>\n",
       "      <td>0.133641</td>\n",
       "      <td>0.039610</td>\n",
       "      <td>-0.083251</td>\n",
       "      <td>0.172633</td>\n",
       "      <td>1.000000</td>\n",
       "      <td>0.111121</td>\n",
       "      <td>0.017396</td>\n",
       "    </tr>\n",
       "    <tr>\n",
       "      <th>AE</th>\n",
       "      <td>-0.026570</td>\n",
       "      <td>-0.073920</td>\n",
       "      <td>0.089483</td>\n",
       "      <td>0.413765</td>\n",
       "      <td>0.269056</td>\n",
       "      <td>-0.398124</td>\n",
       "      <td>0.349256</td>\n",
       "      <td>0.111121</td>\n",
       "      <td>1.000000</td>\n",
       "      <td>0.545950</td>\n",
       "    </tr>\n",
       "    <tr>\n",
       "      <th>MOUSE</th>\n",
       "      <td>-0.137355</td>\n",
       "      <td>-0.049242</td>\n",
       "      <td>0.037231</td>\n",
       "      <td>0.366515</td>\n",
       "      <td>0.214524</td>\n",
       "      <td>-0.310578</td>\n",
       "      <td>0.278242</td>\n",
       "      <td>0.017396</td>\n",
       "      <td>0.545950</td>\n",
       "      <td>1.000000</td>\n",
       "    </tr>\n",
       "  </tbody>\n",
       "</table>\n",
       "</div>"
      ],
      "text/plain": [
       "            CON       DEO       NFC        EC        PT        PP         I  \\\n",
       "CON    1.000000 -0.130800  0.227270 -0.139969  0.032274  0.239326 -0.126171   \n",
       "DEO   -0.130800  1.000000 -0.041706 -0.115465 -0.079523  0.033845  0.039485   \n",
       "NFC    0.227270 -0.041706  1.000000  0.055408  0.292804 -0.069836  0.097187   \n",
       "EC    -0.139969 -0.115465  0.055408  1.000000  0.502733 -0.570740  0.523312   \n",
       "PT     0.032274 -0.079523  0.292804  0.502733  1.000000 -0.334871  0.322932   \n",
       "PP     0.239326  0.033845 -0.069836 -0.570740 -0.334871  1.000000 -0.473980   \n",
       "I     -0.126171  0.039485  0.097187  0.523312  0.322932 -0.473980  1.000000   \n",
       "S      0.056511  0.091804  0.076282  0.133641  0.039610 -0.083251  0.172633   \n",
       "AE    -0.026570 -0.073920  0.089483  0.413765  0.269056 -0.398124  0.349256   \n",
       "MOUSE -0.137355 -0.049242  0.037231  0.366515  0.214524 -0.310578  0.278242   \n",
       "\n",
       "              S        AE     MOUSE  \n",
       "CON    0.056511 -0.026570 -0.137355  \n",
       "DEO    0.091804 -0.073920 -0.049242  \n",
       "NFC    0.076282  0.089483  0.037231  \n",
       "EC     0.133641  0.413765  0.366515  \n",
       "PT     0.039610  0.269056  0.214524  \n",
       "PP    -0.083251 -0.398124 -0.310578  \n",
       "I      0.172633  0.349256  0.278242  \n",
       "S      1.000000  0.111121  0.017396  \n",
       "AE     0.111121  1.000000  0.545950  \n",
       "MOUSE  0.017396  0.545950  1.000000  "
      ]
     },
     "execution_count": 83,
     "metadata": {},
     "output_type": "execute_result"
    }
   ],
   "source": [
    "# Выделим некоторые ключевые переменные\n",
    "cols = ['CON', 'DEO', 'NFC', 'EC', 'PT', 'PP', 'I', 'S', 'AE', 'MOUSE']\n",
    "corr = df[cols].corr()\n",
    "\n",
    "corr"
   ]
  },
  {
   "cell_type": "markdown",
   "metadata": {},
   "source": [
    "С помощью корреляционного анализа можно попробовать быстро обнаружить взаимосвязь между большим количеством переменных"
   ]
  },
  {
   "cell_type": "code",
   "execution_count": 84,
   "metadata": {},
   "outputs": [
    {
     "data": {
      "image/png": "[encoded data removed]",
      "text/plain": [
       "<Figure size 720x720 with 2 Axes>"
      ]
     },
     "metadata": {},
     "output_type": "display_data"
    }
   ],
   "source": [
    "mask = np.triu(np.ones_like(corr, dtype=bool))\n",
    "\n",
    "plt.subplots(figsize=(10, 10))\n",
    "sns.heatmap(corr, mask=mask, square=True,\n",
    "            annot=True, fmt=\".2f\", \n",
    "            linewidths=0.2, cmap=\"RdBu_r\",\n",
    "            vmin=-1, vmax=1, center=0\n",
    "           );"
   ]
  },
  {
   "cell_type": "markdown",
   "metadata": {},
   "source": [
    "## t-тест"
   ]
  },
  {
   "cell_type": "markdown",
   "metadata": {},
   "source": [
    "Выделим пару переменных для более тщательного анализа. В колонках `EC` находится оценка способности человека к эмпатии, в колонке `AE` находится оценка эмпатии человека к животным. "
   ]
  },
  {
   "cell_type": "code",
   "execution_count": 85,
   "metadata": {},
   "outputs": [
    {
     "data": {
      "image/png": "[encoded data removed]",
      "text/plain": [
       "<Figure size 432x432 with 3 Axes>"
      ]
     },
     "metadata": {},
     "output_type": "display_data"
    }
   ],
   "source": [
    "# (обсудить эти графики!)\n",
    "# sns.scatterplot(data=df, x='AE', y='EC');\n",
    "# sns.regplot(data=df, x='AE', y='EC');\n",
    "\n",
    "\n",
    "sns.jointplot(data=df, x=\"AE\", y=\"EC\", kind='reg');"
   ]
  },
  {
   "cell_type": "code",
   "execution_count": 86,
   "metadata": {},
   "outputs": [
    {
     "data": {
      "text/html": [
       "<div>\n",
       "<style scoped>\n",
       "    .dataframe tbody tr th:only-of-type {\n",
       "        vertical-align: middle;\n",
       "    }\n",
       "\n",
       "    .dataframe tbody tr th {\n",
       "        vertical-align: top;\n",
       "    }\n",
       "\n",
       "    .dataframe thead th {\n",
       "        text-align: right;\n",
       "    }\n",
       "</style>\n",
       "<table border=\"1\" class=\"dataframe\">\n",
       "  <thead>\n",
       "    <tr style=\"text-align: right;\">\n",
       "      <th></th>\n",
       "      <th>AE</th>\n",
       "      <th>EC</th>\n",
       "    </tr>\n",
       "  </thead>\n",
       "  <tbody>\n",
       "    <tr>\n",
       "      <th>AE</th>\n",
       "      <td>1.000000</td>\n",
       "      <td>0.413765</td>\n",
       "    </tr>\n",
       "    <tr>\n",
       "      <th>EC</th>\n",
       "      <td>0.413765</td>\n",
       "      <td>1.000000</td>\n",
       "    </tr>\n",
       "  </tbody>\n",
       "</table>\n",
       "</div>"
      ],
      "text/plain": [
       "          AE        EC\n",
       "AE  1.000000  0.413765\n",
       "EC  0.413765  1.000000"
      ]
     },
     "execution_count": 86,
     "metadata": {},
     "output_type": "execute_result"
    }
   ],
   "source": [
    "df[['AE','EC']].corr()"
   ]
  },
  {
   "cell_type": "markdown",
   "metadata": {},
   "source": [
    "Для коэффициента корреляции Пирсона можно протестировать гипотезу о равенству нулю этого коэффициента (то есть об отсутствии линейной взаимосвязи двух переменных)\n",
    "\n",
    "$$\n",
    "\\begin{aligned}\n",
    "&H_0: \\hspace{2mm} r_{x, y} = 0 \\hspace{2mm} \\text{нет линейной взаимосвязи} \\\\\n",
    "&H_1: \\hspace{2mm} r_{x, y} \\ne 0 \\hspace{2mm} \\text{есть}\n",
    "\\end{aligned}\n",
    "$$\n",
    "\n",
    "Для этого снова понадобится $t$-статистика\n",
    "\n",
    "$$\n",
    "t = r_{x, y} \\sqrt{\\frac{n-2}{1-r_{x, y}^{2}}} \\sim t(n-2)\n",
    "$$\n",
    "\n",
    "\n"
   ]
  },
  {
   "cell_type": "code",
   "execution_count": 87,
   "metadata": {},
   "outputs": [
    {
     "data": {
      "text/plain": [
       "(0.4137653731444694, 9.247618598521704, 0.0)"
      ]
     },
     "execution_count": 87,
     "metadata": {},
     "output_type": "execute_result"
    }
   ],
   "source": [
    "sample = df[['AE','EC']].dropna()\n",
    "n = sample.size\n",
    "r = sample.corr().iloc[0,1]\n",
    "\n",
    "t = r * np.sqrt((n-2)/(1-r**2))\n",
    "pval = 2*(1-stats.t.cdf(np.abs(t), n-2))\n",
    "\n",
    "r, t, pval # гипотезу об отсутствии линейной взаимосвязи отвергаем => взаимосвязь есть"
   ]
  },
  {
   "cell_type": "code",
   "execution_count": 88,
   "metadata": {},
   "outputs": [
    {
     "data": {
      "text/plain": [
       "(0.4137653731444694, 5.228406803387317e-10)"
      ]
     },
     "execution_count": 88,
     "metadata": {},
     "output_type": "execute_result"
    }
   ],
   "source": [
    "stats.pearsonr(sample['AE'], sample['EC'])"
   ]
  },
  {
   "cell_type": "markdown",
   "metadata": {
    "id": "7SuP5IYynvOE"
   },
   "source": [
    "https://xkcd.com/1478/\n",
    "\n",
    "<img src=\"https://imgs.xkcd.com/comics/p_values_2x.png\" height=\"300\" width=\"300\"> "
   ]
  }
 ],
 "metadata": {
  "_draft": {
   "nbviewer_url": "https://gist.github.com/"
  },
  "colab": {
   "collapsed_sections": [],
   "name": "5_hyp-mice_and_men+.ipynb",
   "provenance": [],
   "toc_visible": true
  },
  "gist": {
   "data": {
    "description": "",
    "public": false
   },
   "id": ""
  },
  "kernelspec": {
   "display_name": "Python 3 (ipykernel)",
   "language": "python",
   "name": "python3"
  },
  "language_info": {
   "codemirror_mode": {
    "name": "ipython",
    "version": 3
   },
   "file_extension": ".py",
   "mimetype": "text/x-python",
   "name": "python",
   "nbconvert_exporter": "python",
   "pygments_lexer": "ipython3",
   "version": "3.9.7"
  },
  "toc": {
   "base_numbering": 1,
   "nav_menu": {},
   "number_sections": false,
   "sideBar": true,
   "skip_h1_title": false,
   "title_cell": "Table of Contents",
   "title_sidebar": "Contents",
   "toc_cell": true,
   "toc_position": {
    "height": "calc(100% - 180px)",
    "left": "10px",
    "top": "150px",
    "width": "281.981px"
   },
   "toc_section_display": true,
   "toc_window_display": true
  }
 },
 "nbformat": 4,
 "nbformat_minor": 1
}
